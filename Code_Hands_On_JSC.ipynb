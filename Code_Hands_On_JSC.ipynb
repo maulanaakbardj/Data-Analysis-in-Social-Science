{
  "nbformat": 4,
  "nbformat_minor": 0,
  "metadata": {
    "colab": {
      "name": "Hands-On.ipynb",
      "provenance": [],
      "collapsed_sections": [],
      "authorship_tag": "ABX9TyNsm/AgmdHspF47bfEjdukX",
      "include_colab_link": true
    },
    "kernelspec": {
      "name": "python3",
      "display_name": "Python 3"
    },
    "language_info": {
      "name": "python"
    }
  },
  "cells": [
    {
      "cell_type": "markdown",
      "metadata": {
        "id": "view-in-github",
        "colab_type": "text"
      },
      "source": [
        "<a href=\"https://colab.research.google.com/github/maulanaakbardj/Data-Analysis-in-Social-Science/blob/main/Code_Hands_On_JSC.ipynb\" target=\"_parent\"><img src=\"https://colab.research.google.com/assets/colab-badge.svg\" alt=\"Open In Colab\"/></a>"
      ]
    },
    {
      "cell_type": "markdown",
      "metadata": {
        "id": "wn1hKXk5_zv0"
      },
      "source": [
        "# Exploratory Data Analysis Sederhana Dataset COVID-19 DKI Jakarta\n",
        "Oleh: Maulana Akbar Dwijaya - Kandidat Data Science JSC Trainee Gelombang 3 (Agustus - Oktober 2021)\n"
      ]
    },
    {
      "cell_type": "markdown",
      "metadata": {
        "id": "FkPydaXSAmJM"
      },
      "source": [
        "## Perumusan Masalah\n",
        "Terhitung pada tanggal 2 Agustus 2021, pandemi Covid-19 (Corona Virus Disease 2019) telah melanda Indonesia sudah 1 tahun lebih, sejak pemerintah Indonesia mengumumkan ditemukannya dua kasus pertama Covid-19 pada 2 Maret 2020. Sejak saat itu, berbagai usaha telah dilakukan baik oleh pemerintah pusat maupun pemerintah daerah untuk menekan laju penyebaran dan fatalitas Covid-19. Pemprov DKI Jakarta telah berulang kali menerapkan Pembatasan Sosial Berskala Besar (PSBB), mulai dari tiga fase PSBB ketat, PSBB transisi, Pemberlakuan Pembatasan Kegiatan Masyarakat (PPKM) mikro - darurat dan Level 4 Jawa-Bali yang diperpanjang sampai 9 Agustus 2021\n",
        "\n",
        "Hal ini cukup menarik perhatian dengan mulai munculnya skeptisisme dan sentimen negatif di kalangan masyarakat mengenai efektivitas aturan Pembatasan Sosial Pembatasan Kegiatan Masyarakat (PPKM) darurat. Dengan menggunakan dataset yang diperoleh dari situs resmi pemantauan Covid-19 Pemprov DKI Jakarta corona.jakarta.go.id, saya melakukan studi perbandingan sederhana dengan melakukan analisis statistik kondisi pandemi sebelum dan sesudah dimulainya PPKM.\n",
        "\n",
        "\n",
        "\n",
        "\n"
      ]
    },
    {
      "cell_type": "markdown",
      "metadata": {
        "id": "cuSlpf8BCIMK"
      },
      "source": [
        "## Hipotesis\n",
        "\n",
        "1.   Hipotesis Awal : Tidak adanya korelasi aturan PPKM terhadap penurunan laju penyebaran dan fatalitas kasus Covid-19 secara keseluruhan di DKI Jakarta.\n",
        "2.   Hipotesis Kedua: Adanya korelasi (positif) antara aturan PPKM terhadap penurunan laju penyebaran dan fatalitas kasus Covid-19 secara keseluruhan di DKI Jakarta.\n"
      ]
    },
    {
      "cell_type": "markdown",
      "metadata": {
        "id": "lc48mBimhRO-"
      },
      "source": [
        "## Exploratory Data Analysis"
      ]
    },
    {
      "cell_type": "code",
      "metadata": {
        "id": "KxX0mNZLuCp6"
      },
      "source": [
        "import pandas as pd\n",
        "import numpy as np\n",
        "import matplotlib.pyplot as plt"
      ],
      "execution_count": null,
      "outputs": []
    },
    {
      "cell_type": "code",
      "metadata": {
        "id": "4JV2-BP7uGVn"
      },
      "source": [
        "url_data= \"https://tiny.cc/Datacovidjakarta\"\n",
        "data = pd.read_excel(url_data)\n"
      ],
      "execution_count": null,
      "outputs": []
    },
    {
      "cell_type": "markdown",
      "metadata": {
        "id": "BX9Y8-PfA13B"
      },
      "source": [
        "Digunakan dataset ‘Data Jakarta’ pada data yang diperoleh secara langsung\n",
        "dari link tiny.cc/Datacovidjakarta. Terdapat 14 variabel pada dataset ini, yaitu:"
      ]
    },
    {
      "cell_type": "code",
      "metadata": {
        "colab": {
          "base_uri": "https://localhost:8080/",
          "height": 561
        },
        "id": "gXuwuUNwvbzQ",
        "outputId": "fba90a40-ab68-4bad-c783-4219a6b7b6c6"
      },
      "source": [
        "data.info()\n",
        "data.head()"
      ],
      "execution_count": null,
      "outputs": [
        {
          "output_type": "stream",
          "text": [
            "<class 'pandas.core.frame.DataFrame'>\n",
            "RangeIndex: 521 entries, 0 to 520\n",
            "Data columns (total 14 columns):\n",
            " #   Column           Non-Null Count  Dtype         \n",
            "---  ------           --------------  -----         \n",
            " 0   Tanggal          521 non-null    datetime64[ns]\n",
            " 1   Jam              502 non-null    float64       \n",
            " 2   Tanggal Jam      521 non-null    datetime64[ns]\n",
            " 3   Meninggal        521 non-null    int64         \n",
            " 4   Sembuh           521 non-null    int64         \n",
            " 5   Self Isolation   521 non-null    int64         \n",
            " 6   Masih Perawatan  521 non-null    int64         \n",
            " 7   Total Pasien     521 non-null    int64         \n",
            " 8   Positif Harian   521 non-null    int64         \n",
            " 9   Positif Aktif    521 non-null    int64         \n",
            " 10  Sembuh Harian    521 non-null    int64         \n",
            " 11  Tanpa Gejala     381 non-null    float64       \n",
            " 12  Bergejala        381 non-null    float64       \n",
            " 13  Belum Ada Data   381 non-null    float64       \n",
            "dtypes: datetime64[ns](2), float64(4), int64(8)\n",
            "memory usage: 57.1 KB\n"
          ],
          "name": "stdout"
        },
        {
          "output_type": "execute_result",
          "data": {
            "text/html": [
              "<div>\n",
              "<style scoped>\n",
              "    .dataframe tbody tr th:only-of-type {\n",
              "        vertical-align: middle;\n",
              "    }\n",
              "\n",
              "    .dataframe tbody tr th {\n",
              "        vertical-align: top;\n",
              "    }\n",
              "\n",
              "    .dataframe thead th {\n",
              "        text-align: right;\n",
              "    }\n",
              "</style>\n",
              "<table border=\"1\" class=\"dataframe\">\n",
              "  <thead>\n",
              "    <tr style=\"text-align: right;\">\n",
              "      <th></th>\n",
              "      <th>Tanggal</th>\n",
              "      <th>Jam</th>\n",
              "      <th>Tanggal Jam</th>\n",
              "      <th>Meninggal</th>\n",
              "      <th>Sembuh</th>\n",
              "      <th>Self Isolation</th>\n",
              "      <th>Masih Perawatan</th>\n",
              "      <th>Total Pasien</th>\n",
              "      <th>Positif Harian</th>\n",
              "      <th>Positif Aktif</th>\n",
              "      <th>Sembuh Harian</th>\n",
              "      <th>Tanpa Gejala</th>\n",
              "      <th>Bergejala</th>\n",
              "      <th>Belum Ada Data</th>\n",
              "    </tr>\n",
              "  </thead>\n",
              "  <tbody>\n",
              "    <tr>\n",
              "      <th>0</th>\n",
              "      <td>2020-03-01</td>\n",
              "      <td>NaN</td>\n",
              "      <td>2020-03-01 18:00:00</td>\n",
              "      <td>0</td>\n",
              "      <td>0</td>\n",
              "      <td>0</td>\n",
              "      <td>0</td>\n",
              "      <td>0</td>\n",
              "      <td>0</td>\n",
              "      <td>0</td>\n",
              "      <td>0</td>\n",
              "      <td>NaN</td>\n",
              "      <td>NaN</td>\n",
              "      <td>NaN</td>\n",
              "    </tr>\n",
              "    <tr>\n",
              "      <th>1</th>\n",
              "      <td>2020-03-02</td>\n",
              "      <td>NaN</td>\n",
              "      <td>2020-03-02 18:00:00</td>\n",
              "      <td>0</td>\n",
              "      <td>0</td>\n",
              "      <td>0</td>\n",
              "      <td>0</td>\n",
              "      <td>0</td>\n",
              "      <td>0</td>\n",
              "      <td>0</td>\n",
              "      <td>0</td>\n",
              "      <td>NaN</td>\n",
              "      <td>NaN</td>\n",
              "      <td>NaN</td>\n",
              "    </tr>\n",
              "    <tr>\n",
              "      <th>2</th>\n",
              "      <td>2020-03-03</td>\n",
              "      <td>NaN</td>\n",
              "      <td>2020-03-03 18:00:00</td>\n",
              "      <td>1</td>\n",
              "      <td>0</td>\n",
              "      <td>0</td>\n",
              "      <td>2</td>\n",
              "      <td>3</td>\n",
              "      <td>3</td>\n",
              "      <td>2</td>\n",
              "      <td>0</td>\n",
              "      <td>NaN</td>\n",
              "      <td>NaN</td>\n",
              "      <td>NaN</td>\n",
              "    </tr>\n",
              "    <tr>\n",
              "      <th>3</th>\n",
              "      <td>2020-03-04</td>\n",
              "      <td>NaN</td>\n",
              "      <td>2020-03-04 18:00:00</td>\n",
              "      <td>1</td>\n",
              "      <td>0</td>\n",
              "      <td>0</td>\n",
              "      <td>2</td>\n",
              "      <td>3</td>\n",
              "      <td>0</td>\n",
              "      <td>2</td>\n",
              "      <td>0</td>\n",
              "      <td>NaN</td>\n",
              "      <td>NaN</td>\n",
              "      <td>NaN</td>\n",
              "    </tr>\n",
              "    <tr>\n",
              "      <th>4</th>\n",
              "      <td>2020-03-05</td>\n",
              "      <td>NaN</td>\n",
              "      <td>2020-03-05 18:00:00</td>\n",
              "      <td>3</td>\n",
              "      <td>0</td>\n",
              "      <td>0</td>\n",
              "      <td>4</td>\n",
              "      <td>7</td>\n",
              "      <td>4</td>\n",
              "      <td>4</td>\n",
              "      <td>0</td>\n",
              "      <td>NaN</td>\n",
              "      <td>NaN</td>\n",
              "      <td>NaN</td>\n",
              "    </tr>\n",
              "  </tbody>\n",
              "</table>\n",
              "</div>"
            ],
            "text/plain": [
              "     Tanggal  Jam         Tanggal Jam  ...  Tanpa Gejala  Bergejala  Belum Ada Data\n",
              "0 2020-03-01  NaN 2020-03-01 18:00:00  ...           NaN        NaN             NaN\n",
              "1 2020-03-02  NaN 2020-03-02 18:00:00  ...           NaN        NaN             NaN\n",
              "2 2020-03-03  NaN 2020-03-03 18:00:00  ...           NaN        NaN             NaN\n",
              "3 2020-03-04  NaN 2020-03-04 18:00:00  ...           NaN        NaN             NaN\n",
              "4 2020-03-05  NaN 2020-03-05 18:00:00  ...           NaN        NaN             NaN\n",
              "\n",
              "[5 rows x 14 columns]"
            ]
          },
          "metadata": {
            "tags": []
          },
          "execution_count": 3
        }
      ]
    },
    {
      "cell_type": "markdown",
      "metadata": {
        "id": "EDeoh1lYBESb"
      },
      "source": [
        "Dari 14 variabel tersebut, akan digunakan variabel inti berikut dalam proses analisis:\n",
        "* Tanggal: Digunakan sebagai index dari dataset secara keseluruhan\n",
        "* Positif Harian: Untuk menganalisis informasi perkembangan laju penyebaran\n",
        "* Positif Aktif: Untuk memperoleh informasi kondisi sebaran setiap waktu"
      ]
    },
    {
      "cell_type": "code",
      "metadata": {
        "colab": {
          "base_uri": "https://localhost:8080/"
        },
        "id": "CoM_SwMfzIIN",
        "outputId": "26fb2e54-1e00-4b7f-f6db-5e4a1825db14"
      },
      "source": [
        "data[['Tanggal','Positif Harian', 'Positif Aktif']].info()"
      ],
      "execution_count": null,
      "outputs": [
        {
          "output_type": "stream",
          "text": [
            "<class 'pandas.core.frame.DataFrame'>\n",
            "RangeIndex: 521 entries, 0 to 520\n",
            "Data columns (total 3 columns):\n",
            " #   Column          Non-Null Count  Dtype         \n",
            "---  ------          --------------  -----         \n",
            " 0   Tanggal         521 non-null    datetime64[ns]\n",
            " 1   Positif Harian  521 non-null    int64         \n",
            " 2   Positif Aktif   521 non-null    int64         \n",
            "dtypes: datetime64[ns](1), int64(2)\n",
            "memory usage: 12.3 KB\n"
          ],
          "name": "stdout"
        }
      ]
    },
    {
      "cell_type": "code",
      "metadata": {
        "colab": {
          "base_uri": "https://localhost:8080/",
          "height": 297
        },
        "id": "wRX48ByYzyA-",
        "outputId": "85a6abb5-ea05-43ce-b6d3-66efe5b4a5da"
      },
      "source": [
        "data[['Positif Harian', 'Positif Aktif']].describe()"
      ],
      "execution_count": null,
      "outputs": [
        {
          "output_type": "execute_result",
          "data": {
            "text/html": [
              "<div>\n",
              "<style scoped>\n",
              "    .dataframe tbody tr th:only-of-type {\n",
              "        vertical-align: middle;\n",
              "    }\n",
              "\n",
              "    .dataframe tbody tr th {\n",
              "        vertical-align: top;\n",
              "    }\n",
              "\n",
              "    .dataframe thead th {\n",
              "        text-align: right;\n",
              "    }\n",
              "</style>\n",
              "<table border=\"1\" class=\"dataframe\">\n",
              "  <thead>\n",
              "    <tr style=\"text-align: right;\">\n",
              "      <th></th>\n",
              "      <th>Positif Harian</th>\n",
              "      <th>Positif Aktif</th>\n",
              "    </tr>\n",
              "  </thead>\n",
              "  <tbody>\n",
              "    <tr>\n",
              "      <th>count</th>\n",
              "      <td>521.000000</td>\n",
              "      <td>521.000000</td>\n",
              "    </tr>\n",
              "    <tr>\n",
              "      <th>mean</th>\n",
              "      <td>1574.596929</td>\n",
              "      <td>13975.919386</td>\n",
              "    </tr>\n",
              "    <tr>\n",
              "      <th>std</th>\n",
              "      <td>2356.788055</td>\n",
              "      <td>19689.151571</td>\n",
              "    </tr>\n",
              "    <tr>\n",
              "      <th>min</th>\n",
              "      <td>0.000000</td>\n",
              "      <td>0.000000</td>\n",
              "    </tr>\n",
              "    <tr>\n",
              "      <th>25%</th>\n",
              "      <td>239.000000</td>\n",
              "      <td>4618.000000</td>\n",
              "    </tr>\n",
              "    <tr>\n",
              "      <th>50%</th>\n",
              "      <td>926.000000</td>\n",
              "      <td>8398.000000</td>\n",
              "    </tr>\n",
              "    <tr>\n",
              "      <th>75%</th>\n",
              "      <td>1588.000000</td>\n",
              "      <td>13140.000000</td>\n",
              "    </tr>\n",
              "    <tr>\n",
              "      <th>max</th>\n",
              "      <td>14619.000000</td>\n",
              "      <td>113138.000000</td>\n",
              "    </tr>\n",
              "  </tbody>\n",
              "</table>\n",
              "</div>"
            ],
            "text/plain": [
              "       Positif Harian  Positif Aktif\n",
              "count      521.000000     521.000000\n",
              "mean      1574.596929   13975.919386\n",
              "std       2356.788055   19689.151571\n",
              "min          0.000000       0.000000\n",
              "25%        239.000000    4618.000000\n",
              "50%        926.000000    8398.000000\n",
              "75%       1588.000000   13140.000000\n",
              "max      14619.000000  113138.000000"
            ]
          },
          "metadata": {
            "tags": []
          },
          "execution_count": 5
        }
      ]
    },
    {
      "cell_type": "markdown",
      "metadata": {
        "id": "DUso3uQJZyYy"
      },
      "source": [
        "### Analisis Awal\n",
        "Pertama akan dilakukan analisis tren setiap variabel terhadap variabel ‘Tanggal’ yang menjadi indeks dataset."
      ]
    },
    {
      "cell_type": "code",
      "metadata": {
        "id": "bnTAeuOq0NO-"
      },
      "source": [
        "data['Hari'] = np.arange(1, len(data)+1, 1)"
      ],
      "execution_count": null,
      "outputs": []
    },
    {
      "cell_type": "code",
      "metadata": {
        "id": "FNfiX9Tg0ZCV",
        "colab": {
          "base_uri": "https://localhost:8080/",
          "height": 353
        },
        "outputId": "4399fead-1ccd-42d2-a737-67d7195cf3e6"
      },
      "source": [
        "fig, (ax1) = plt.subplots(1,figsize=(14,5))\n",
        "plt.title('Positif Harian')\n",
        "ax1.scatter(x=data['Tanggal'], y=data['Positif Harian'])"
      ],
      "execution_count": null,
      "outputs": [
        {
          "output_type": "execute_result",
          "data": {
            "text/plain": [
              "<matplotlib.collections.PathCollection at 0x7f1976f10fd0>"
            ]
          },
          "metadata": {
            "tags": []
          },
          "execution_count": 7
        },
        {
          "output_type": "display_data",
          "data": {
            "image/png": "[encoded data removed]",
            "text/plain": [
              "<Figure size 1008x360 with 1 Axes>"
            ]
          },
          "metadata": {
            "tags": [],
            "needs_background": "light"
          }
        }
      ]
    },
    {
      "cell_type": "code",
      "metadata": {
        "colab": {
          "base_uri": "https://localhost:8080/",
          "height": 111
        },
        "id": "KXgjGvDHbEqE",
        "outputId": "79a97038-8f45-4a9b-ad45-b983aa2bba38"
      },
      "source": [
        "data[['Hari', 'Positif Harian']].cov()"
      ],
      "execution_count": null,
      "outputs": [
        {
          "output_type": "execute_result",
          "data": {
            "text/html": [
              "<div>\n",
              "<style scoped>\n",
              "    .dataframe tbody tr th:only-of-type {\n",
              "        vertical-align: middle;\n",
              "    }\n",
              "\n",
              "    .dataframe tbody tr th {\n",
              "        vertical-align: top;\n",
              "    }\n",
              "\n",
              "    .dataframe thead th {\n",
              "        text-align: right;\n",
              "    }\n",
              "</style>\n",
              "<table border=\"1\" class=\"dataframe\">\n",
              "  <thead>\n",
              "    <tr style=\"text-align: right;\">\n",
              "      <th></th>\n",
              "      <th>Hari</th>\n",
              "      <th>Positif Harian</th>\n",
              "    </tr>\n",
              "  </thead>\n",
              "  <tbody>\n",
              "    <tr>\n",
              "      <th>Hari</th>\n",
              "      <td>22663.500000</td>\n",
              "      <td>2.094790e+05</td>\n",
              "    </tr>\n",
              "    <tr>\n",
              "      <th>Positif Harian</th>\n",
              "      <td>209478.955769</td>\n",
              "      <td>5.554450e+06</td>\n",
              "    </tr>\n",
              "  </tbody>\n",
              "</table>\n",
              "</div>"
            ],
            "text/plain": [
              "                         Hari  Positif Harian\n",
              "Hari             22663.500000    2.094790e+05\n",
              "Positif Harian  209478.955769    5.554450e+06"
            ]
          },
          "metadata": {
            "tags": []
          },
          "execution_count": 8
        }
      ]
    },
    {
      "cell_type": "markdown",
      "metadata": {
        "id": "Hx6IivFCcFqQ"
      },
      "source": [
        "Visualisasi tersebut membuktikan analisis data positif harian pada awal kasus berada pada level yang rendah, namun terjadi kenaikan secara eksponensial pada September 2020 sampai awal tahun 2021, kurva mulai melandai tepat setahun kasus pertama di Indonesia dan mengalami kenaikan yang signifikan pada Juni-Juli 2021. Analisis kovarians yang memberikan nilai positif (2.094790e+05) menunjukkan tren kenaikan data. Penurunan data di akhir data (3 Agustus 2021).\n",
        "\n",
        "---\n",
        "\n"
      ]
    },
    {
      "cell_type": "code",
      "metadata": {
        "colab": {
          "base_uri": "https://localhost:8080/",
          "height": 353
        },
        "id": "rCYkrdD4ejIT",
        "outputId": "1d5619e0-b72c-496c-826d-bb39ff8006fc"
      },
      "source": [
        "fig, (ax1) = plt.subplots(1,figsize=(14,5))\n",
        "plt.title('Positif Aktif')\n",
        "ax1.scatter(x=data['Tanggal'], y=data['Positif Aktif'])"
      ],
      "execution_count": null,
      "outputs": [
        {
          "output_type": "execute_result",
          "data": {
            "text/plain": [
              "<matplotlib.collections.PathCollection at 0x7f1976cb7250>"
            ]
          },
          "metadata": {
            "tags": []
          },
          "execution_count": 9
        },
        {
          "output_type": "display_data",
          "data": {
            "image/png": "[encoded data removed]",
            "text/plain": [
              "<Figure size 1008x360 with 1 Axes>"
            ]
          },
          "metadata": {
            "tags": [],
            "needs_background": "light"
          }
        }
      ]
    },
    {
      "cell_type": "code",
      "metadata": {
        "colab": {
          "base_uri": "https://localhost:8080/",
          "height": 111
        },
        "id": "oLrD4lEO_ql1",
        "outputId": "c02d3bc4-d1b7-41ab-ef68-85c9cb819a91"
      },
      "source": [
        "data[['Hari', 'Positif Aktif']].cov()"
      ],
      "execution_count": null,
      "outputs": [
        {
          "output_type": "execute_result",
          "data": {
            "text/html": [
              "<div>\n",
              "<style scoped>\n",
              "    .dataframe tbody tr th:only-of-type {\n",
              "        vertical-align: middle;\n",
              "    }\n",
              "\n",
              "    .dataframe tbody tr th {\n",
              "        vertical-align: top;\n",
              "    }\n",
              "\n",
              "    .dataframe thead th {\n",
              "        text-align: right;\n",
              "    }\n",
              "</style>\n",
              "<table border=\"1\" class=\"dataframe\">\n",
              "  <thead>\n",
              "    <tr style=\"text-align: right;\">\n",
              "      <th></th>\n",
              "      <th>Hari</th>\n",
              "      <th>Positif Aktif</th>\n",
              "    </tr>\n",
              "  </thead>\n",
              "  <tbody>\n",
              "    <tr>\n",
              "      <th>Hari</th>\n",
              "      <td>2.266350e+04</td>\n",
              "      <td>1.638682e+06</td>\n",
              "    </tr>\n",
              "    <tr>\n",
              "      <th>Positif Aktif</th>\n",
              "      <td>1.638682e+06</td>\n",
              "      <td>3.876627e+08</td>\n",
              "    </tr>\n",
              "  </tbody>\n",
              "</table>\n",
              "</div>"
            ],
            "text/plain": [
              "                       Hari  Positif Aktif\n",
              "Hari           2.266350e+04   1.638682e+06\n",
              "Positif Aktif  1.638682e+06   3.876627e+08"
            ]
          },
          "metadata": {
            "tags": []
          },
          "execution_count": 10
        }
      ]
    },
    {
      "cell_type": "markdown",
      "metadata": {
        "id": "vYumhiSEe0bR"
      },
      "source": [
        "Visualisasi ini juga membuktikan analisis awal sebelumnya bahwa mayoritas data positif aktif berada pada level yang rendah, namun terjadi kenaikan signifikan pada Juni-Juli 2021 dan mengalami penurunan pada kuartal akhir data (3 Agustus 2021)\n",
        "\n",
        "---\n",
        "\n"
      ]
    },
    {
      "cell_type": "markdown",
      "metadata": {
        "id": "cKOzU3rBhir6"
      },
      "source": [
        "## Initial data assessment \n",
        "Pada bagian ini, dilakukan comparison ketiga aspek variabel sebelum aturan PPKM darurat mulai dilaksanakan (sebelum 6 Juli 2021) dengan setelah aturan PPKM darurat mulai dilaksanakan (setelah 6 Juli 2021) dengan menggunakan tendensi\n",
        "sentral data."
      ]
    },
    {
      "cell_type": "code",
      "metadata": {
        "colab": {
          "base_uri": "https://localhost:8080/",
          "height": 114
        },
        "id": "S4jIo943m7Bk",
        "outputId": "243ee3db-d35d-4a09-bed0-79e13203b7bb"
      },
      "source": [
        "data.loc[data['Tanggal'] == '2021-07-06']"
      ],
      "execution_count": null,
      "outputs": [
        {
          "output_type": "execute_result",
          "data": {
            "text/html": [
              "<div>\n",
              "<style scoped>\n",
              "    .dataframe tbody tr th:only-of-type {\n",
              "        vertical-align: middle;\n",
              "    }\n",
              "\n",
              "    .dataframe tbody tr th {\n",
              "        vertical-align: top;\n",
              "    }\n",
              "\n",
              "    .dataframe thead th {\n",
              "        text-align: right;\n",
              "    }\n",
              "</style>\n",
              "<table border=\"1\" class=\"dataframe\">\n",
              "  <thead>\n",
              "    <tr style=\"text-align: right;\">\n",
              "      <th></th>\n",
              "      <th>Tanggal</th>\n",
              "      <th>Jam</th>\n",
              "      <th>Tanggal Jam</th>\n",
              "      <th>Meninggal</th>\n",
              "      <th>Sembuh</th>\n",
              "      <th>Self Isolation</th>\n",
              "      <th>Masih Perawatan</th>\n",
              "      <th>Total Pasien</th>\n",
              "      <th>Positif Harian</th>\n",
              "      <th>Positif Aktif</th>\n",
              "      <th>Sembuh Harian</th>\n",
              "      <th>Tanpa Gejala</th>\n",
              "      <th>Bergejala</th>\n",
              "      <th>Belum Ada Data</th>\n",
              "      <th>Hari</th>\n",
              "    </tr>\n",
              "  </thead>\n",
              "  <tbody>\n",
              "    <tr>\n",
              "      <th>492</th>\n",
              "      <td>2021-07-06</td>\n",
              "      <td>8.0</td>\n",
              "      <td>2021-07-06 07:59:59.712</td>\n",
              "      <td>8861</td>\n",
              "      <td>497492</td>\n",
              "      <td>65448</td>\n",
              "      <td>29136</td>\n",
              "      <td>600937</td>\n",
              "      <td>9439</td>\n",
              "      <td>94584</td>\n",
              "      <td>5936</td>\n",
              "      <td>18451.0</td>\n",
              "      <td>60476.0</td>\n",
              "      <td>15657.0</td>\n",
              "      <td>493</td>\n",
              "    </tr>\n",
              "  </tbody>\n",
              "</table>\n",
              "</div>"
            ],
            "text/plain": [
              "       Tanggal  Jam             Tanggal Jam  ...  Bergejala  Belum Ada Data  Hari\n",
              "492 2021-07-06  8.0 2021-07-06 07:59:59.712  ...    60476.0         15657.0   493\n",
              "\n",
              "[1 rows x 15 columns]"
            ]
          },
          "metadata": {
            "tags": []
          },
          "execution_count": 11
        }
      ]
    },
    {
      "cell_type": "code",
      "metadata": {
        "colab": {
          "base_uri": "https://localhost:8080/",
          "height": 114
        },
        "id": "ExKXfRhJbdrb",
        "outputId": "93c9fadf-e5a3-4128-cc6b-805599c363e9"
      },
      "source": [
        "data.loc[data['Tanggal'] == '2021-01-11']"
      ],
      "execution_count": null,
      "outputs": [
        {
          "output_type": "execute_result",
          "data": {
            "text/html": [
              "<div>\n",
              "<style scoped>\n",
              "    .dataframe tbody tr th:only-of-type {\n",
              "        vertical-align: middle;\n",
              "    }\n",
              "\n",
              "    .dataframe tbody tr th {\n",
              "        vertical-align: top;\n",
              "    }\n",
              "\n",
              "    .dataframe thead th {\n",
              "        text-align: right;\n",
              "    }\n",
              "</style>\n",
              "<table border=\"1\" class=\"dataframe\">\n",
              "  <thead>\n",
              "    <tr style=\"text-align: right;\">\n",
              "      <th></th>\n",
              "      <th>Tanggal</th>\n",
              "      <th>Jam</th>\n",
              "      <th>Tanggal Jam</th>\n",
              "      <th>Meninggal</th>\n",
              "      <th>Sembuh</th>\n",
              "      <th>Self Isolation</th>\n",
              "      <th>Masih Perawatan</th>\n",
              "      <th>Total Pasien</th>\n",
              "      <th>Positif Harian</th>\n",
              "      <th>Positif Aktif</th>\n",
              "      <th>Sembuh Harian</th>\n",
              "      <th>Tanpa Gejala</th>\n",
              "      <th>Bergejala</th>\n",
              "      <th>Belum Ada Data</th>\n",
              "      <th>Hari</th>\n",
              "    </tr>\n",
              "  </thead>\n",
              "  <tbody>\n",
              "    <tr>\n",
              "      <th>316</th>\n",
              "      <td>2021-01-11</td>\n",
              "      <td>8.0</td>\n",
              "      <td>2021-01-11 07:59:59.712</td>\n",
              "      <td>3551</td>\n",
              "      <td>187086</td>\n",
              "      <td>13541</td>\n",
              "      <td>4405</td>\n",
              "      <td>208583</td>\n",
              "      <td>2461</td>\n",
              "      <td>17946</td>\n",
              "      <td>2510</td>\n",
              "      <td>5180.0</td>\n",
              "      <td>9246.0</td>\n",
              "      <td>3520.0</td>\n",
              "      <td>317</td>\n",
              "    </tr>\n",
              "  </tbody>\n",
              "</table>\n",
              "</div>"
            ],
            "text/plain": [
              "       Tanggal  Jam             Tanggal Jam  ...  Bergejala  Belum Ada Data  Hari\n",
              "316 2021-01-11  8.0 2021-01-11 07:59:59.712  ...     9246.0          3520.0   317\n",
              "\n",
              "[1 rows x 15 columns]"
            ]
          },
          "metadata": {
            "tags": []
          },
          "execution_count": 32
        }
      ]
    },
    {
      "cell_type": "code",
      "metadata": {
        "id": "NYe6Aj2mhh3S"
      },
      "source": [
        "mulai_tgl = 493  # 6 Juli 2021\n",
        "mulai_index = data['Hari'][data.index==mulai_tgl].values[0]-1"
      ],
      "execution_count": null,
      "outputs": []
    },
    {
      "cell_type": "code",
      "metadata": {
        "colab": {
          "base_uri": "https://localhost:8080/"
        },
        "id": "8z_Sh6IckbwJ",
        "outputId": "7bdca81f-5e21-4839-bcf3-9682a1b4cb15"
      },
      "source": [
        "print('Penambahan Kasus Positif Harian Mulai PPKM 11 Januari 2021 Sebelum PPKM Darurat 6 Juli 2021')\n",
        "print(data['Positif Harian'].iloc[316:mulai_index].describe())\n",
        "print()\n",
        "print('Penambahan Kasus Positif Harian Mulai PPKM 11 Januari 2021 Setelah PPKM Darurat 6 Juli 2021')\n",
        "print(data['Positif Harian'].iloc[mulai_index:].describe())"
      ],
      "execution_count": null,
      "outputs": [
        {
          "output_type": "stream",
          "text": [
            "Penambahan Kasus Positif Harian Mulai PPKM 11 Januari 2021 Sebelum PPKM Darurat 6 Juli 2021\n",
            "count      177.000000\n",
            "mean      2230.593220\n",
            "std       2190.318593\n",
            "min        161.000000\n",
            "25%        845.000000\n",
            "50%       1437.000000\n",
            "75%       2872.000000\n",
            "max      10903.000000\n",
            "Name: Positif Harian, dtype: float64\n",
            "\n",
            "Penambahan Kasus Positif Harian Mulai PPKM 11 Januari 2021 Setelah PPKM Darurat 6 Juli 2021\n",
            "count       28.000000\n",
            "mean      7836.714286\n",
            "std       4233.868854\n",
            "min       1410.000000\n",
            "25%       3775.500000\n",
            "50%       7545.500000\n",
            "75%      12478.000000\n",
            "max      14619.000000\n",
            "Name: Positif Harian, dtype: float64\n"
          ],
          "name": "stdout"
        }
      ]
    },
    {
      "cell_type": "code",
      "metadata": {
        "colab": {
          "base_uri": "https://localhost:8080/",
          "height": 606
        },
        "id": "tTghMYB-1HKF",
        "outputId": "c9b74382-c5ab-42ab-ad21-f6d110d7028e"
      },
      "source": [
        "tes=data.iloc[316:492]\n",
        "tes"
      ],
      "execution_count": null,
      "outputs": [
        {
          "output_type": "execute_result",
          "data": {
            "text/html": [
              "<div>\n",
              "<style scoped>\n",
              "    .dataframe tbody tr th:only-of-type {\n",
              "        vertical-align: middle;\n",
              "    }\n",
              "\n",
              "    .dataframe tbody tr th {\n",
              "        vertical-align: top;\n",
              "    }\n",
              "\n",
              "    .dataframe thead th {\n",
              "        text-align: right;\n",
              "    }\n",
              "</style>\n",
              "<table border=\"1\" class=\"dataframe\">\n",
              "  <thead>\n",
              "    <tr style=\"text-align: right;\">\n",
              "      <th></th>\n",
              "      <th>Tanggal</th>\n",
              "      <th>Jam</th>\n",
              "      <th>Tanggal Jam</th>\n",
              "      <th>Meninggal</th>\n",
              "      <th>Sembuh</th>\n",
              "      <th>Self Isolation</th>\n",
              "      <th>Masih Perawatan</th>\n",
              "      <th>Total Pasien</th>\n",
              "      <th>Positif Harian</th>\n",
              "      <th>Positif Aktif</th>\n",
              "      <th>Sembuh Harian</th>\n",
              "      <th>Tanpa Gejala</th>\n",
              "      <th>Bergejala</th>\n",
              "      <th>Belum Ada Data</th>\n",
              "      <th>Hari</th>\n",
              "    </tr>\n",
              "  </thead>\n",
              "  <tbody>\n",
              "    <tr>\n",
              "      <th>316</th>\n",
              "      <td>2021-01-11</td>\n",
              "      <td>8.0</td>\n",
              "      <td>2021-01-11 07:59:59.712</td>\n",
              "      <td>3551</td>\n",
              "      <td>187086</td>\n",
              "      <td>13541</td>\n",
              "      <td>4405</td>\n",
              "      <td>208583</td>\n",
              "      <td>2461</td>\n",
              "      <td>17946</td>\n",
              "      <td>2510</td>\n",
              "      <td>5180.0</td>\n",
              "      <td>9246.0</td>\n",
              "      <td>3520.0</td>\n",
              "      <td>317</td>\n",
              "    </tr>\n",
              "    <tr>\n",
              "      <th>317</th>\n",
              "      <td>2021-01-12</td>\n",
              "      <td>8.0</td>\n",
              "      <td>2021-01-12 07:59:59.712</td>\n",
              "      <td>3589</td>\n",
              "      <td>188675</td>\n",
              "      <td>14591</td>\n",
              "      <td>4397</td>\n",
              "      <td>211252</td>\n",
              "      <td>2669</td>\n",
              "      <td>18988</td>\n",
              "      <td>1589</td>\n",
              "      <td>6861.0</td>\n",
              "      <td>10618.0</td>\n",
              "      <td>1509.0</td>\n",
              "      <td>318</td>\n",
              "    </tr>\n",
              "    <tr>\n",
              "      <th>318</th>\n",
              "      <td>2021-01-13</td>\n",
              "      <td>8.0</td>\n",
              "      <td>2021-01-13 07:59:59.712</td>\n",
              "      <td>3634</td>\n",
              "      <td>191635</td>\n",
              "      <td>15009</td>\n",
              "      <td>4450</td>\n",
              "      <td>214728</td>\n",
              "      <td>3476</td>\n",
              "      <td>19459</td>\n",
              "      <td>2960</td>\n",
              "      <td>6757.0</td>\n",
              "      <td>10186.0</td>\n",
              "      <td>2516.0</td>\n",
              "      <td>319</td>\n",
              "    </tr>\n",
              "    <tr>\n",
              "      <th>319</th>\n",
              "      <td>2021-01-14</td>\n",
              "      <td>8.0</td>\n",
              "      <td>2021-01-14 07:59:59.712</td>\n",
              "      <td>3675</td>\n",
              "      <td>193719</td>\n",
              "      <td>15852</td>\n",
              "      <td>4647</td>\n",
              "      <td>217893</td>\n",
              "      <td>3165</td>\n",
              "      <td>20499</td>\n",
              "      <td>2084</td>\n",
              "      <td>5878.0</td>\n",
              "      <td>10055.0</td>\n",
              "      <td>4566.0</td>\n",
              "      <td>320</td>\n",
              "    </tr>\n",
              "    <tr>\n",
              "      <th>320</th>\n",
              "      <td>2021-01-15</td>\n",
              "      <td>8.0</td>\n",
              "      <td>2021-01-15 07:59:59.712</td>\n",
              "      <td>3710</td>\n",
              "      <td>195924</td>\n",
              "      <td>15553</td>\n",
              "      <td>5247</td>\n",
              "      <td>220434</td>\n",
              "      <td>2541</td>\n",
              "      <td>20800</td>\n",
              "      <td>2205</td>\n",
              "      <td>5182.0</td>\n",
              "      <td>9366.0</td>\n",
              "      <td>6252.0</td>\n",
              "      <td>321</td>\n",
              "    </tr>\n",
              "    <tr>\n",
              "      <th>...</th>\n",
              "      <td>...</td>\n",
              "      <td>...</td>\n",
              "      <td>...</td>\n",
              "      <td>...</td>\n",
              "      <td>...</td>\n",
              "      <td>...</td>\n",
              "      <td>...</td>\n",
              "      <td>...</td>\n",
              "      <td>...</td>\n",
              "      <td>...</td>\n",
              "      <td>...</td>\n",
              "      <td>...</td>\n",
              "      <td>...</td>\n",
              "      <td>...</td>\n",
              "      <td>...</td>\n",
              "    </tr>\n",
              "    <tr>\n",
              "      <th>487</th>\n",
              "      <td>2021-07-01</td>\n",
              "      <td>8.0</td>\n",
              "      <td>2021-07-01 07:59:59.712</td>\n",
              "      <td>8528</td>\n",
              "      <td>468461</td>\n",
              "      <td>49836</td>\n",
              "      <td>24184</td>\n",
              "      <td>551009</td>\n",
              "      <td>7541</td>\n",
              "      <td>74020</td>\n",
              "      <td>3518</td>\n",
              "      <td>13902.0</td>\n",
              "      <td>26151.0</td>\n",
              "      <td>33967.0</td>\n",
              "      <td>488</td>\n",
              "    </tr>\n",
              "    <tr>\n",
              "      <th>488</th>\n",
              "      <td>2021-07-02</td>\n",
              "      <td>8.0</td>\n",
              "      <td>2021-07-02 07:59:59.712</td>\n",
              "      <td>8547</td>\n",
              "      <td>473467</td>\n",
              "      <td>53014</td>\n",
              "      <td>25380</td>\n",
              "      <td>560408</td>\n",
              "      <td>9399</td>\n",
              "      <td>78394</td>\n",
              "      <td>5006</td>\n",
              "      <td>12103.0</td>\n",
              "      <td>25076.0</td>\n",
              "      <td>41215.0</td>\n",
              "      <td>489</td>\n",
              "    </tr>\n",
              "    <tr>\n",
              "      <th>489</th>\n",
              "      <td>2021-07-03</td>\n",
              "      <td>8.0</td>\n",
              "      <td>2021-07-03 07:59:59.712</td>\n",
              "      <td>8577</td>\n",
              "      <td>479150</td>\n",
              "      <td>54941</td>\n",
              "      <td>27442</td>\n",
              "      <td>570110</td>\n",
              "      <td>9702</td>\n",
              "      <td>82383</td>\n",
              "      <td>5683</td>\n",
              "      <td>11310.0</td>\n",
              "      <td>21941.0</td>\n",
              "      <td>49132.0</td>\n",
              "      <td>490</td>\n",
              "    </tr>\n",
              "    <tr>\n",
              "      <th>490</th>\n",
              "      <td>2021-07-04</td>\n",
              "      <td>8.0</td>\n",
              "      <td>2021-07-04 07:59:59.712</td>\n",
              "      <td>8652</td>\n",
              "      <td>484949</td>\n",
              "      <td>59307</td>\n",
              "      <td>27687</td>\n",
              "      <td>580595</td>\n",
              "      <td>10485</td>\n",
              "      <td>86994</td>\n",
              "      <td>5799</td>\n",
              "      <td>8799.0</td>\n",
              "      <td>20101.0</td>\n",
              "      <td>58094.0</td>\n",
              "      <td>491</td>\n",
              "    </tr>\n",
              "    <tr>\n",
              "      <th>491</th>\n",
              "      <td>2021-07-05</td>\n",
              "      <td>8.0</td>\n",
              "      <td>2021-07-05 07:59:59.712</td>\n",
              "      <td>8779</td>\n",
              "      <td>491556</td>\n",
              "      <td>62873</td>\n",
              "      <td>28290</td>\n",
              "      <td>591498</td>\n",
              "      <td>10903</td>\n",
              "      <td>91163</td>\n",
              "      <td>6607</td>\n",
              "      <td>7598.0</td>\n",
              "      <td>20096.0</td>\n",
              "      <td>63469.0</td>\n",
              "      <td>492</td>\n",
              "    </tr>\n",
              "  </tbody>\n",
              "</table>\n",
              "<p>176 rows × 15 columns</p>\n",
              "</div>"
            ],
            "text/plain": [
              "       Tanggal  Jam             Tanggal Jam  ...  Bergejala  Belum Ada Data  Hari\n",
              "316 2021-01-11  8.0 2021-01-11 07:59:59.712  ...     9246.0          3520.0   317\n",
              "317 2021-01-12  8.0 2021-01-12 07:59:59.712  ...    10618.0          1509.0   318\n",
              "318 2021-01-13  8.0 2021-01-13 07:59:59.712  ...    10186.0          2516.0   319\n",
              "319 2021-01-14  8.0 2021-01-14 07:59:59.712  ...    10055.0          4566.0   320\n",
              "320 2021-01-15  8.0 2021-01-15 07:59:59.712  ...     9366.0          6252.0   321\n",
              "..         ...  ...                     ...  ...        ...             ...   ...\n",
              "487 2021-07-01  8.0 2021-07-01 07:59:59.712  ...    26151.0         33967.0   488\n",
              "488 2021-07-02  8.0 2021-07-02 07:59:59.712  ...    25076.0         41215.0   489\n",
              "489 2021-07-03  8.0 2021-07-03 07:59:59.712  ...    21941.0         49132.0   490\n",
              "490 2021-07-04  8.0 2021-07-04 07:59:59.712  ...    20101.0         58094.0   491\n",
              "491 2021-07-05  8.0 2021-07-05 07:59:59.712  ...    20096.0         63469.0   492\n",
              "\n",
              "[176 rows x 15 columns]"
            ]
          },
          "metadata": {
            "tags": []
          },
          "execution_count": 34
        }
      ]
    },
    {
      "cell_type": "code",
      "metadata": {
        "colab": {
          "base_uri": "https://localhost:8080/",
          "height": 350
        },
        "id": "w3IOlt8npscZ",
        "outputId": "ae536c2f-2d06-4268-8278-a1acb4ed1ad6"
      },
      "source": [
        "fig, ax = plt.subplots()\n",
        "fig.set_size_inches(14, 5)\n",
        "\n",
        "ax.plot(tes['Tanggal'], tes['Positif Harian'], color= 'b', label='Positif Harian')\n",
        "ax.set_xlabel('Tanggal')\n",
        "ax.set_ylabel('Jumlah')\n",
        "ax.set_title('Kasus COVID-19 di Jakarta mulai Awal PPKM sampai Sebelum PPKM Darurat')\n",
        "ax.legend()\n",
        "plt.savefig('plot1.png')\n",
        "plt.show()\n"
      ],
      "execution_count": 47,
      "outputs": [
        {
          "output_type": "display_data",
          "data": {
            "image/png": "[encoded data removed]",
            "text/plain": [
              "<Figure size 1008x360 with 1 Axes>"
            ]
          },
          "metadata": {
            "tags": [],
            "needs_background": "light"
          }
        }
      ]
    },
    {
      "cell_type": "code",
      "metadata": {
        "colab": {
          "base_uri": "https://localhost:8080/",
          "height": 1000
        },
        "id": "Ve0URPeCu11L",
        "outputId": "94769d21-465f-460d-d1e9-47d0fb7d2146"
      },
      "source": [
        "tes2=data.iloc[492:]\n",
        "tes2"
      ],
      "execution_count": null,
      "outputs": [
        {
          "output_type": "execute_result",
          "data": {
            "text/html": [
              "<div>\n",
              "<style scoped>\n",
              "    .dataframe tbody tr th:only-of-type {\n",
              "        vertical-align: middle;\n",
              "    }\n",
              "\n",
              "    .dataframe tbody tr th {\n",
              "        vertical-align: top;\n",
              "    }\n",
              "\n",
              "    .dataframe thead th {\n",
              "        text-align: right;\n",
              "    }\n",
              "</style>\n",
              "<table border=\"1\" class=\"dataframe\">\n",
              "  <thead>\n",
              "    <tr style=\"text-align: right;\">\n",
              "      <th></th>\n",
              "      <th>Tanggal</th>\n",
              "      <th>Jam</th>\n",
              "      <th>Tanggal Jam</th>\n",
              "      <th>Meninggal</th>\n",
              "      <th>Sembuh</th>\n",
              "      <th>Self Isolation</th>\n",
              "      <th>Masih Perawatan</th>\n",
              "      <th>Total Pasien</th>\n",
              "      <th>Positif Harian</th>\n",
              "      <th>Positif Aktif</th>\n",
              "      <th>Sembuh Harian</th>\n",
              "      <th>Tanpa Gejala</th>\n",
              "      <th>Bergejala</th>\n",
              "      <th>Belum Ada Data</th>\n",
              "      <th>Hari</th>\n",
              "    </tr>\n",
              "  </thead>\n",
              "  <tbody>\n",
              "    <tr>\n",
              "      <th>492</th>\n",
              "      <td>2021-07-06</td>\n",
              "      <td>8.0</td>\n",
              "      <td>2021-07-06 07:59:59.712</td>\n",
              "      <td>8861</td>\n",
              "      <td>497492</td>\n",
              "      <td>65448</td>\n",
              "      <td>29136</td>\n",
              "      <td>600937</td>\n",
              "      <td>9439</td>\n",
              "      <td>94584</td>\n",
              "      <td>5936</td>\n",
              "      <td>18451.0</td>\n",
              "      <td>60476.0</td>\n",
              "      <td>15657.0</td>\n",
              "      <td>493</td>\n",
              "    </tr>\n",
              "    <tr>\n",
              "      <th>493</th>\n",
              "      <td>2021-07-07</td>\n",
              "      <td>8.0</td>\n",
              "      <td>2021-07-07 07:59:59.712</td>\n",
              "      <td>9042</td>\n",
              "      <td>501199</td>\n",
              "      <td>69644</td>\n",
              "      <td>30418</td>\n",
              "      <td>610303</td>\n",
              "      <td>9366</td>\n",
              "      <td>100062</td>\n",
              "      <td>3707</td>\n",
              "      <td>18376.0</td>\n",
              "      <td>57521.0</td>\n",
              "      <td>24165.0</td>\n",
              "      <td>494</td>\n",
              "    </tr>\n",
              "    <tr>\n",
              "      <th>494</th>\n",
              "      <td>2021-07-08</td>\n",
              "      <td>8.0</td>\n",
              "      <td>2021-07-08 07:59:59.712</td>\n",
              "      <td>9110</td>\n",
              "      <td>512085</td>\n",
              "      <td>72361</td>\n",
              "      <td>29721</td>\n",
              "      <td>623277</td>\n",
              "      <td>12974</td>\n",
              "      <td>102082</td>\n",
              "      <td>10886</td>\n",
              "      <td>14748.0</td>\n",
              "      <td>50824.0</td>\n",
              "      <td>36510.0</td>\n",
              "      <td>495</td>\n",
              "    </tr>\n",
              "    <tr>\n",
              "      <th>495</th>\n",
              "      <td>2021-07-09</td>\n",
              "      <td>8.0</td>\n",
              "      <td>2021-07-09 07:59:59.712</td>\n",
              "      <td>9306</td>\n",
              "      <td>526941</td>\n",
              "      <td>73239</td>\n",
              "      <td>26903</td>\n",
              "      <td>636389</td>\n",
              "      <td>13112</td>\n",
              "      <td>100142</td>\n",
              "      <td>14856</td>\n",
              "      <td>10095.0</td>\n",
              "      <td>40727.0</td>\n",
              "      <td>49320.0</td>\n",
              "      <td>496</td>\n",
              "    </tr>\n",
              "    <tr>\n",
              "      <th>496</th>\n",
              "      <td>2021-07-10</td>\n",
              "      <td>8.0</td>\n",
              "      <td>2021-07-10 07:59:59.712</td>\n",
              "      <td>9357</td>\n",
              "      <td>543867</td>\n",
              "      <td>71812</td>\n",
              "      <td>24273</td>\n",
              "      <td>649309</td>\n",
              "      <td>12920</td>\n",
              "      <td>96085</td>\n",
              "      <td>16926</td>\n",
              "      <td>7999.0</td>\n",
              "      <td>26379.0</td>\n",
              "      <td>61707.0</td>\n",
              "      <td>497</td>\n",
              "    </tr>\n",
              "    <tr>\n",
              "      <th>497</th>\n",
              "      <td>2021-07-11</td>\n",
              "      <td>8.0</td>\n",
              "      <td>2021-07-11 07:59:59.712</td>\n",
              "      <td>9395</td>\n",
              "      <td>564437</td>\n",
              "      <td>68251</td>\n",
              "      <td>20359</td>\n",
              "      <td>662442</td>\n",
              "      <td>13133</td>\n",
              "      <td>88610</td>\n",
              "      <td>20570</td>\n",
              "      <td>4769.0</td>\n",
              "      <td>12893.0</td>\n",
              "      <td>70948.0</td>\n",
              "      <td>498</td>\n",
              "    </tr>\n",
              "    <tr>\n",
              "      <th>498</th>\n",
              "      <td>2021-07-12</td>\n",
              "      <td>8.0</td>\n",
              "      <td>2021-07-12 07:59:59.712</td>\n",
              "      <td>9462</td>\n",
              "      <td>584912</td>\n",
              "      <td>66581</td>\n",
              "      <td>16106</td>\n",
              "      <td>677061</td>\n",
              "      <td>14619</td>\n",
              "      <td>82687</td>\n",
              "      <td>20475</td>\n",
              "      <td>17649.0</td>\n",
              "      <td>25597.0</td>\n",
              "      <td>39441.0</td>\n",
              "      <td>499</td>\n",
              "    </tr>\n",
              "    <tr>\n",
              "      <th>499</th>\n",
              "      <td>2021-07-13</td>\n",
              "      <td>8.0</td>\n",
              "      <td>2021-07-13 07:59:59.712</td>\n",
              "      <td>9541</td>\n",
              "      <td>589486</td>\n",
              "      <td>71848</td>\n",
              "      <td>18368</td>\n",
              "      <td>689243</td>\n",
              "      <td>12182</td>\n",
              "      <td>90216</td>\n",
              "      <td>4574</td>\n",
              "      <td>16957.0</td>\n",
              "      <td>22339.0</td>\n",
              "      <td>50920.0</td>\n",
              "      <td>500</td>\n",
              "    </tr>\n",
              "    <tr>\n",
              "      <th>500</th>\n",
              "      <td>2021-07-14</td>\n",
              "      <td>8.0</td>\n",
              "      <td>2021-07-14 07:59:59.712</td>\n",
              "      <td>9603</td>\n",
              "      <td>592556</td>\n",
              "      <td>78571</td>\n",
              "      <td>21180</td>\n",
              "      <td>701910</td>\n",
              "      <td>12667</td>\n",
              "      <td>99751</td>\n",
              "      <td>3070</td>\n",
              "      <td>32752.0</td>\n",
              "      <td>54463.0</td>\n",
              "      <td>12536.0</td>\n",
              "      <td>501</td>\n",
              "    </tr>\n",
              "    <tr>\n",
              "      <th>501</th>\n",
              "      <td>2021-07-15</td>\n",
              "      <td>8.0</td>\n",
              "      <td>2021-07-15 07:59:59.712</td>\n",
              "      <td>9743</td>\n",
              "      <td>595582</td>\n",
              "      <td>86298</td>\n",
              "      <td>22978</td>\n",
              "      <td>714601</td>\n",
              "      <td>12691</td>\n",
              "      <td>109276</td>\n",
              "      <td>3026</td>\n",
              "      <td>31922.0</td>\n",
              "      <td>52360.0</td>\n",
              "      <td>24994.0</td>\n",
              "      <td>502</td>\n",
              "    </tr>\n",
              "    <tr>\n",
              "      <th>502</th>\n",
              "      <td>2021-07-16</td>\n",
              "      <td>8.0</td>\n",
              "      <td>2021-07-16 07:59:59.712</td>\n",
              "      <td>9845</td>\n",
              "      <td>604033</td>\n",
              "      <td>88295</td>\n",
              "      <td>24843</td>\n",
              "      <td>727016</td>\n",
              "      <td>12415</td>\n",
              "      <td>113138</td>\n",
              "      <td>8451</td>\n",
              "      <td>28216.0</td>\n",
              "      <td>48144.0</td>\n",
              "      <td>36778.0</td>\n",
              "      <td>503</td>\n",
              "    </tr>\n",
              "    <tr>\n",
              "      <th>503</th>\n",
              "      <td>2021-07-17</td>\n",
              "      <td>8.0</td>\n",
              "      <td>2021-07-17 07:59:59.712</td>\n",
              "      <td>9902</td>\n",
              "      <td>615640</td>\n",
              "      <td>87929</td>\n",
              "      <td>23713</td>\n",
              "      <td>737184</td>\n",
              "      <td>10168</td>\n",
              "      <td>111642</td>\n",
              "      <td>11607</td>\n",
              "      <td>23349.0</td>\n",
              "      <td>41735.0</td>\n",
              "      <td>46558.0</td>\n",
              "      <td>504</td>\n",
              "    </tr>\n",
              "    <tr>\n",
              "      <th>504</th>\n",
              "      <td>2021-07-18</td>\n",
              "      <td>8.0</td>\n",
              "      <td>2021-07-18 07:59:59.712</td>\n",
              "      <td>10103</td>\n",
              "      <td>627481</td>\n",
              "      <td>86457</td>\n",
              "      <td>22271</td>\n",
              "      <td>746312</td>\n",
              "      <td>9128</td>\n",
              "      <td>108728</td>\n",
              "      <td>11841</td>\n",
              "      <td>20890.0</td>\n",
              "      <td>33459.0</td>\n",
              "      <td>54379.0</td>\n",
              "      <td>505</td>\n",
              "    </tr>\n",
              "    <tr>\n",
              "      <th>505</th>\n",
              "      <td>2021-07-19</td>\n",
              "      <td>8.0</td>\n",
              "      <td>2021-07-19 07:59:59.712</td>\n",
              "      <td>10345</td>\n",
              "      <td>640171</td>\n",
              "      <td>81275</td>\n",
              "      <td>19521</td>\n",
              "      <td>751312</td>\n",
              "      <td>5000</td>\n",
              "      <td>100796</td>\n",
              "      <td>12690</td>\n",
              "      <td>35311.0</td>\n",
              "      <td>51962.0</td>\n",
              "      <td>13523.0</td>\n",
              "      <td>506</td>\n",
              "    </tr>\n",
              "    <tr>\n",
              "      <th>506</th>\n",
              "      <td>2021-07-20</td>\n",
              "      <td>8.0</td>\n",
              "      <td>2021-07-20 07:59:59.712</td>\n",
              "      <td>10610</td>\n",
              "      <td>652242</td>\n",
              "      <td>75776</td>\n",
              "      <td>18897</td>\n",
              "      <td>757525</td>\n",
              "      <td>6213</td>\n",
              "      <td>94673</td>\n",
              "      <td>12071</td>\n",
              "      <td>30983.0</td>\n",
              "      <td>44129.0</td>\n",
              "      <td>19561.0</td>\n",
              "      <td>507</td>\n",
              "    </tr>\n",
              "    <tr>\n",
              "      <th>507</th>\n",
              "      <td>2021-07-21</td>\n",
              "      <td>8.0</td>\n",
              "      <td>2021-07-21 07:59:59.712</td>\n",
              "      <td>10692</td>\n",
              "      <td>662800</td>\n",
              "      <td>72115</td>\n",
              "      <td>17822</td>\n",
              "      <td>763429</td>\n",
              "      <td>5904</td>\n",
              "      <td>89937</td>\n",
              "      <td>10558</td>\n",
              "      <td>27122.0</td>\n",
              "      <td>38320.0</td>\n",
              "      <td>24495.0</td>\n",
              "      <td>508</td>\n",
              "    </tr>\n",
              "    <tr>\n",
              "      <th>508</th>\n",
              "      <td>2021-07-22</td>\n",
              "      <td>8.0</td>\n",
              "      <td>2021-07-22 07:59:59.712</td>\n",
              "      <td>10865</td>\n",
              "      <td>673424</td>\n",
              "      <td>68974</td>\n",
              "      <td>17224</td>\n",
              "      <td>770487</td>\n",
              "      <td>7058</td>\n",
              "      <td>86198</td>\n",
              "      <td>10624</td>\n",
              "      <td>22418.0</td>\n",
              "      <td>32730.0</td>\n",
              "      <td>31050.0</td>\n",
              "      <td>509</td>\n",
              "    </tr>\n",
              "    <tr>\n",
              "      <th>509</th>\n",
              "      <td>2021-07-23</td>\n",
              "      <td>8.0</td>\n",
              "      <td>2021-07-23 07:59:59.712</td>\n",
              "      <td>11021</td>\n",
              "      <td>687864</td>\n",
              "      <td>62789</td>\n",
              "      <td>16846</td>\n",
              "      <td>778520</td>\n",
              "      <td>8033</td>\n",
              "      <td>79635</td>\n",
              "      <td>14440</td>\n",
              "      <td>18931.0</td>\n",
              "      <td>24456.0</td>\n",
              "      <td>36248.0</td>\n",
              "      <td>510</td>\n",
              "    </tr>\n",
              "    <tr>\n",
              "      <th>510</th>\n",
              "      <td>2021-07-24</td>\n",
              "      <td>8.0</td>\n",
              "      <td>2021-07-24 07:59:59.712</td>\n",
              "      <td>11181</td>\n",
              "      <td>702477</td>\n",
              "      <td>56946</td>\n",
              "      <td>16276</td>\n",
              "      <td>786880</td>\n",
              "      <td>8360</td>\n",
              "      <td>73222</td>\n",
              "      <td>14613</td>\n",
              "      <td>16072.0</td>\n",
              "      <td>13489.0</td>\n",
              "      <td>43661.0</td>\n",
              "      <td>511</td>\n",
              "    </tr>\n",
              "    <tr>\n",
              "      <th>511</th>\n",
              "      <td>2021-07-25</td>\n",
              "      <td>8.0</td>\n",
              "      <td>2021-07-25 07:59:59.712</td>\n",
              "      <td>11333</td>\n",
              "      <td>716838</td>\n",
              "      <td>48934</td>\n",
              "      <td>15168</td>\n",
              "      <td>792273</td>\n",
              "      <td>5393</td>\n",
              "      <td>64102</td>\n",
              "      <td>14361</td>\n",
              "      <td>18044.0</td>\n",
              "      <td>32952.0</td>\n",
              "      <td>13106.0</td>\n",
              "      <td>512</td>\n",
              "    </tr>\n",
              "    <tr>\n",
              "      <th>512</th>\n",
              "      <td>2021-07-26</td>\n",
              "      <td>8.0</td>\n",
              "      <td>2021-07-26 07:59:59.712</td>\n",
              "      <td>11436</td>\n",
              "      <td>731504</td>\n",
              "      <td>38271</td>\n",
              "      <td>13724</td>\n",
              "      <td>794935</td>\n",
              "      <td>2662</td>\n",
              "      <td>51995</td>\n",
              "      <td>14666</td>\n",
              "      <td>10463.0</td>\n",
              "      <td>28033.0</td>\n",
              "      <td>13499.0</td>\n",
              "      <td>513</td>\n",
              "    </tr>\n",
              "    <tr>\n",
              "      <th>513</th>\n",
              "      <td>2021-07-27</td>\n",
              "      <td>8.0</td>\n",
              "      <td>2021-07-27 07:59:59.712</td>\n",
              "      <td>11606</td>\n",
              "      <td>746087</td>\n",
              "      <td>26961</td>\n",
              "      <td>13848</td>\n",
              "      <td>798502</td>\n",
              "      <td>3567</td>\n",
              "      <td>40809</td>\n",
              "      <td>14583</td>\n",
              "      <td>8911.0</td>\n",
              "      <td>21290.0</td>\n",
              "      <td>10608.0</td>\n",
              "      <td>514</td>\n",
              "    </tr>\n",
              "    <tr>\n",
              "      <th>514</th>\n",
              "      <td>2021-07-28</td>\n",
              "      <td>8.0</td>\n",
              "      <td>2021-07-28 07:59:59.712</td>\n",
              "      <td>11688</td>\n",
              "      <td>757122</td>\n",
              "      <td>22332</td>\n",
              "      <td>12885</td>\n",
              "      <td>804027</td>\n",
              "      <td>5525</td>\n",
              "      <td>35217</td>\n",
              "      <td>11035</td>\n",
              "      <td>5114.0</td>\n",
              "      <td>14320.0</td>\n",
              "      <td>15783.0</td>\n",
              "      <td>515</td>\n",
              "    </tr>\n",
              "    <tr>\n",
              "      <th>515</th>\n",
              "      <td>2021-07-29</td>\n",
              "      <td>8.0</td>\n",
              "      <td>2021-07-29 07:59:59.712</td>\n",
              "      <td>11844</td>\n",
              "      <td>768562</td>\n",
              "      <td>16676</td>\n",
              "      <td>10790</td>\n",
              "      <td>807872</td>\n",
              "      <td>3845</td>\n",
              "      <td>27466</td>\n",
              "      <td>11440</td>\n",
              "      <td>1630.0</td>\n",
              "      <td>7060.0</td>\n",
              "      <td>18776.0</td>\n",
              "      <td>516</td>\n",
              "    </tr>\n",
              "    <tr>\n",
              "      <th>516</th>\n",
              "      <td>2021-07-30</td>\n",
              "      <td>8.0</td>\n",
              "      <td>2021-07-30 07:59:59.712</td>\n",
              "      <td>11952</td>\n",
              "      <td>779720</td>\n",
              "      <td>11264</td>\n",
              "      <td>8390</td>\n",
              "      <td>811326</td>\n",
              "      <td>3454</td>\n",
              "      <td>19654</td>\n",
              "      <td>11158</td>\n",
              "      <td>2798.0</td>\n",
              "      <td>11212.0</td>\n",
              "      <td>5644.0</td>\n",
              "      <td>517</td>\n",
              "    </tr>\n",
              "    <tr>\n",
              "      <th>517</th>\n",
              "      <td>2021-07-31</td>\n",
              "      <td>8.0</td>\n",
              "      <td>2021-07-31 07:59:59.712</td>\n",
              "      <td>12135</td>\n",
              "      <td>784668</td>\n",
              "      <td>10134</td>\n",
              "      <td>7716</td>\n",
              "      <td>814653</td>\n",
              "      <td>3327</td>\n",
              "      <td>17850</td>\n",
              "      <td>4948</td>\n",
              "      <td>1784.0</td>\n",
              "      <td>7157.0</td>\n",
              "      <td>8909.0</td>\n",
              "      <td>518</td>\n",
              "    </tr>\n",
              "    <tr>\n",
              "      <th>518</th>\n",
              "      <td>2021-08-01</td>\n",
              "      <td>8.0</td>\n",
              "      <td>2021-08-01 07:59:59.712</td>\n",
              "      <td>12209</td>\n",
              "      <td>789261</td>\n",
              "      <td>9399</td>\n",
              "      <td>6485</td>\n",
              "      <td>817354</td>\n",
              "      <td>2701</td>\n",
              "      <td>15884</td>\n",
              "      <td>4593</td>\n",
              "      <td>115.0</td>\n",
              "      <td>4275.0</td>\n",
              "      <td>11494.0</td>\n",
              "      <td>519</td>\n",
              "    </tr>\n",
              "    <tr>\n",
              "      <th>519</th>\n",
              "      <td>2021-08-02</td>\n",
              "      <td>8.0</td>\n",
              "      <td>2021-08-02 07:59:59.712</td>\n",
              "      <td>12363</td>\n",
              "      <td>791422</td>\n",
              "      <td>9202</td>\n",
              "      <td>5777</td>\n",
              "      <td>818764</td>\n",
              "      <td>1410</td>\n",
              "      <td>14979</td>\n",
              "      <td>2161</td>\n",
              "      <td>27.0</td>\n",
              "      <td>2468.0</td>\n",
              "      <td>12484.0</td>\n",
              "      <td>520</td>\n",
              "    </tr>\n",
              "    <tr>\n",
              "      <th>520</th>\n",
              "      <td>2021-08-03</td>\n",
              "      <td>8.0</td>\n",
              "      <td>2021-08-03 07:59:59.712</td>\n",
              "      <td>12433</td>\n",
              "      <td>793928</td>\n",
              "      <td>8705</td>\n",
              "      <td>5299</td>\n",
              "      <td>820365</td>\n",
              "      <td>1601</td>\n",
              "      <td>14004</td>\n",
              "      <td>2506</td>\n",
              "      <td>27.0</td>\n",
              "      <td>1389.0</td>\n",
              "      <td>12588.0</td>\n",
              "      <td>521</td>\n",
              "    </tr>\n",
              "  </tbody>\n",
              "</table>\n",
              "</div>"
            ],
            "text/plain": [
              "       Tanggal  Jam             Tanggal Jam  ...  Bergejala  Belum Ada Data  Hari\n",
              "492 2021-07-06  8.0 2021-07-06 07:59:59.712  ...    60476.0         15657.0   493\n",
              "493 2021-07-07  8.0 2021-07-07 07:59:59.712  ...    57521.0         24165.0   494\n",
              "494 2021-07-08  8.0 2021-07-08 07:59:59.712  ...    50824.0         36510.0   495\n",
              "495 2021-07-09  8.0 2021-07-09 07:59:59.712  ...    40727.0         49320.0   496\n",
              "496 2021-07-10  8.0 2021-07-10 07:59:59.712  ...    26379.0         61707.0   497\n",
              "497 2021-07-11  8.0 2021-07-11 07:59:59.712  ...    12893.0         70948.0   498\n",
              "498 2021-07-12  8.0 2021-07-12 07:59:59.712  ...    25597.0         39441.0   499\n",
              "499 2021-07-13  8.0 2021-07-13 07:59:59.712  ...    22339.0         50920.0   500\n",
              "500 2021-07-14  8.0 2021-07-14 07:59:59.712  ...    54463.0         12536.0   501\n",
              "501 2021-07-15  8.0 2021-07-15 07:59:59.712  ...    52360.0         24994.0   502\n",
              "502 2021-07-16  8.0 2021-07-16 07:59:59.712  ...    48144.0         36778.0   503\n",
              "503 2021-07-17  8.0 2021-07-17 07:59:59.712  ...    41735.0         46558.0   504\n",
              "504 2021-07-18  8.0 2021-07-18 07:59:59.712  ...    33459.0         54379.0   505\n",
              "505 2021-07-19  8.0 2021-07-19 07:59:59.712  ...    51962.0         13523.0   506\n",
              "506 2021-07-20  8.0 2021-07-20 07:59:59.712  ...    44129.0         19561.0   507\n",
              "507 2021-07-21  8.0 2021-07-21 07:59:59.712  ...    38320.0         24495.0   508\n",
              "508 2021-07-22  8.0 2021-07-22 07:59:59.712  ...    32730.0         31050.0   509\n",
              "509 2021-07-23  8.0 2021-07-23 07:59:59.712  ...    24456.0         36248.0   510\n",
              "510 2021-07-24  8.0 2021-07-24 07:59:59.712  ...    13489.0         43661.0   511\n",
              "511 2021-07-25  8.0 2021-07-25 07:59:59.712  ...    32952.0         13106.0   512\n",
              "512 2021-07-26  8.0 2021-07-26 07:59:59.712  ...    28033.0         13499.0   513\n",
              "513 2021-07-27  8.0 2021-07-27 07:59:59.712  ...    21290.0         10608.0   514\n",
              "514 2021-07-28  8.0 2021-07-28 07:59:59.712  ...    14320.0         15783.0   515\n",
              "515 2021-07-29  8.0 2021-07-29 07:59:59.712  ...     7060.0         18776.0   516\n",
              "516 2021-07-30  8.0 2021-07-30 07:59:59.712  ...    11212.0          5644.0   517\n",
              "517 2021-07-31  8.0 2021-07-31 07:59:59.712  ...     7157.0          8909.0   518\n",
              "518 2021-08-01  8.0 2021-08-01 07:59:59.712  ...     4275.0         11494.0   519\n",
              "519 2021-08-02  8.0 2021-08-02 07:59:59.712  ...     2468.0         12484.0   520\n",
              "520 2021-08-03  8.0 2021-08-03 07:59:59.712  ...     1389.0         12588.0   521\n",
              "\n",
              "[29 rows x 15 columns]"
            ]
          },
          "metadata": {
            "tags": []
          },
          "execution_count": 16
        }
      ]
    },
    {
      "cell_type": "code",
      "metadata": {
        "colab": {
          "base_uri": "https://localhost:8080/",
          "height": 350
        },
        "id": "WXxYtIek3Ifb",
        "outputId": "c7267f02-f17f-4b81-adba-48536833438d"
      },
      "source": [
        "fig, ax = plt.subplots()\n",
        "fig.set_size_inches(14, 5)\n",
        "\n",
        "ax.plot(tes2['Tanggal'], tes2['Positif Harian'], color= 'b', label='Positif Harian')\n",
        "ax.set_xlabel('Tanggal')\n",
        "ax.set_ylabel('Jumlah')\n",
        "ax.set_title('Kasus COVID-19 di Jakarta Setelah PPKM Darurat')\n",
        "ax.legend()\n",
        "plt.savefig('plot2.png')\n",
        "plt.show()"
      ],
      "execution_count": 46,
      "outputs": [
        {
          "output_type": "display_data",
          "data": {
            "image/png": "[encoded data removed]",
            "text/plain": [
              "<Figure size 1008x360 with 1 Axes>"
            ]
          },
          "metadata": {
            "tags": [],
            "needs_background": "light"
          }
        }
      ]
    },
    {
      "cell_type": "markdown",
      "metadata": {
        "id": "9ke299RuIZgR"
      },
      "source": [
        "# Kesimpulan"
      ]
    },
    {
      "cell_type": "markdown",
      "metadata": {
        "id": "U9QkksohIS97"
      },
      "source": [
        "Berdasarkan analisis statistik sederhana yang telah dilakukan menggunakan dataset dari situs\n",
        "resmi pemantauan Covid-19 Pemprov DKI Jakarta https://tiny.cc/Datacovidjakarta, diperoleh hasil\n",
        "sebagai berikut:\n",
        "    \n",
        "- Jika dilihat secara jumlah kasus (kuantitas), terjadi penurunan laju penyebaran (positif harian) signifikan setelah aturan PPKM Darurat dilakukan\n",
        "dilaksanakan di DKI Jakarta pada 6 Juli 2021."
      ]
    },
    {
      "cell_type": "markdown",
      "metadata": {
        "id": "BhTsIwM49AkG"
      },
      "source": [
        "# Deep Learning: Recurrent Neural Networks Studi Kasus PPKM "
      ]
    },
    {
      "cell_type": "code",
      "metadata": {
        "id": "NPfweE8b7rU9"
      },
      "source": [
        "training_set = tes2.iloc[:, 8:9].values"
      ],
      "execution_count": null,
      "outputs": []
    },
    {
      "cell_type": "code",
      "metadata": {
        "colab": {
          "base_uri": "https://localhost:8080/"
        },
        "id": "TLMpqKCU_SZI",
        "outputId": "f5fb8fcc-e5ca-42cf-b5e7-c9ac7f46bb80"
      },
      "source": [
        "training_set"
      ],
      "execution_count": null,
      "outputs": [
        {
          "output_type": "execute_result",
          "data": {
            "text/plain": [
              "array([[ 9439],\n",
              "       [ 9366],\n",
              "       [12974],\n",
              "       [13112],\n",
              "       [12920],\n",
              "       [13133],\n",
              "       [14619],\n",
              "       [12182],\n",
              "       [12667],\n",
              "       [12691],\n",
              "       [12415],\n",
              "       [10168],\n",
              "       [ 9128],\n",
              "       [ 5000],\n",
              "       [ 6213],\n",
              "       [ 5904],\n",
              "       [ 7058],\n",
              "       [ 8033],\n",
              "       [ 8360],\n",
              "       [ 5393],\n",
              "       [ 2662],\n",
              "       [ 3567],\n",
              "       [ 5525],\n",
              "       [ 3845],\n",
              "       [ 3454],\n",
              "       [ 3327],\n",
              "       [ 2701],\n",
              "       [ 1410],\n",
              "       [ 1601]])"
            ]
          },
          "metadata": {
            "tags": []
          },
          "execution_count": 19
        }
      ]
    },
    {
      "cell_type": "markdown",
      "metadata": {
        "id": "UW7Tbj-NLap6"
      },
      "source": [
        "## Proses feature scaling\n",
        "proses preprocessing dengan metode normalisasi. Perintah yang kita tuliskan adalah MinMaxScaler, kemudian diikuti dengan feature_range = (0,1) yang artinya rentangnya antara 0 (nilai minimum) hingga 1 (nilai maksimum).\n",
        "\n"
      ]
    },
    {
      "cell_type": "code",
      "metadata": {
        "id": "6Er1ejhZK_4e",
        "colab": {
          "base_uri": "https://localhost:8080/"
        },
        "outputId": "822af0b3-3e9b-4b50-aada-a55b55ab1290"
      },
      "source": [
        "from sklearn.preprocessing import MinMaxScaler\n",
        "sc = MinMaxScaler(feature_range = (0, 1))\n",
        "training_set_scaled = sc.fit_transform(training_set)\n",
        "training_set_scaled "
      ],
      "execution_count": 50,
      "outputs": [
        {
          "output_type": "execute_result",
          "data": {
            "text/plain": [
              "array([[0.60784314],\n",
              "       [0.6023166 ],\n",
              "       [0.8754637 ],\n",
              "       [0.88591112],\n",
              "       [0.87137558],\n",
              "       [0.88750095],\n",
              "       [1.        ],\n",
              "       [0.81550458],\n",
              "       [0.85222197],\n",
              "       [0.85403891],\n",
              "       [0.83314407],\n",
              "       [0.66303278],\n",
              "       [0.58429858],\n",
              "       [0.27178439],\n",
              "       [0.36361572],\n",
              "       [0.34022258],\n",
              "       [0.42758725],\n",
              "       [0.50140056],\n",
              "       [0.52615641],\n",
              "       [0.30153683],\n",
              "       [0.09478386],\n",
              "       [0.16329775],\n",
              "       [0.31153002],\n",
              "       [0.18434401],\n",
              "       [0.15474298],\n",
              "       [0.14512832],\n",
              "       [0.09773639],\n",
              "       [0.        ],\n",
              "       [0.01445984]])"
            ]
          },
          "metadata": {
            "tags": []
          },
          "execution_count": 50
        }
      ]
    },
    {
      "cell_type": "code",
      "metadata": {
        "id": "0uaaV0ZYMKqG",
        "colab": {
          "base_uri": "https://localhost:8080/"
        },
        "outputId": "e8fd2066-710a-4363-ce35-55c684ba4ab5"
      },
      "source": [
        "# Membuat prediksi dengan 3 time-window \n",
        "X_train = []\n",
        "y_train = []\n",
        "for i in range(3, training_set.shape[0]):\n",
        "    X_train.append(training_set_scaled[i-3:i, 0])\n",
        "    y_train.append(training_set_scaled[i, 0])\n",
        "X_train, y_train = np.array(X_train), np.array(y_train)\n",
        "X_train"
      ],
      "execution_count": 51,
      "outputs": [
        {
          "output_type": "execute_result",
          "data": {
            "text/plain": [
              "array([[0.60784314, 0.6023166 , 0.8754637 ],\n",
              "       [0.6023166 , 0.8754637 , 0.88591112],\n",
              "       [0.8754637 , 0.88591112, 0.87137558],\n",
              "       [0.88591112, 0.87137558, 0.88750095],\n",
              "       [0.87137558, 0.88750095, 1.        ],\n",
              "       [0.88750095, 1.        , 0.81550458],\n",
              "       [1.        , 0.81550458, 0.85222197],\n",
              "       [0.81550458, 0.85222197, 0.85403891],\n",
              "       [0.85222197, 0.85403891, 0.83314407],\n",
              "       [0.85403891, 0.83314407, 0.66303278],\n",
              "       [0.83314407, 0.66303278, 0.58429858],\n",
              "       [0.66303278, 0.58429858, 0.27178439],\n",
              "       [0.58429858, 0.27178439, 0.36361572],\n",
              "       [0.27178439, 0.36361572, 0.34022258],\n",
              "       [0.36361572, 0.34022258, 0.42758725],\n",
              "       [0.34022258, 0.42758725, 0.50140056],\n",
              "       [0.42758725, 0.50140056, 0.52615641],\n",
              "       [0.50140056, 0.52615641, 0.30153683],\n",
              "       [0.52615641, 0.30153683, 0.09478386],\n",
              "       [0.30153683, 0.09478386, 0.16329775],\n",
              "       [0.09478386, 0.16329775, 0.31153002],\n",
              "       [0.16329775, 0.31153002, 0.18434401],\n",
              "       [0.31153002, 0.18434401, 0.15474298],\n",
              "       [0.18434401, 0.15474298, 0.14512832],\n",
              "       [0.15474298, 0.14512832, 0.09773639],\n",
              "       [0.14512832, 0.09773639, 0.        ]])"
            ]
          },
          "metadata": {
            "tags": []
          },
          "execution_count": 51
        }
      ]
    },
    {
      "cell_type": "code",
      "metadata": {
        "id": "m_nIs9EDNWUm",
        "colab": {
          "base_uri": "https://localhost:8080/"
        },
        "outputId": "c8292965-a52a-4989-eeb5-aa53b6a41bf7"
      },
      "source": [
        "# Reshaping\n",
        "X_train = np.reshape(X_train, (X_train.shape[0], X_train.shape[1], 1))\n",
        "X_train"
      ],
      "execution_count": 52,
      "outputs": [
        {
          "output_type": "execute_result",
          "data": {
            "text/plain": [
              "array([[[0.60784314],\n",
              "        [0.6023166 ],\n",
              "        [0.8754637 ]],\n",
              "\n",
              "       [[0.6023166 ],\n",
              "        [0.8754637 ],\n",
              "        [0.88591112]],\n",
              "\n",
              "       [[0.8754637 ],\n",
              "        [0.88591112],\n",
              "        [0.87137558]],\n",
              "\n",
              "       [[0.88591112],\n",
              "        [0.87137558],\n",
              "        [0.88750095]],\n",
              "\n",
              "       [[0.87137558],\n",
              "        [0.88750095],\n",
              "        [1.        ]],\n",
              "\n",
              "       [[0.88750095],\n",
              "        [1.        ],\n",
              "        [0.81550458]],\n",
              "\n",
              "       [[1.        ],\n",
              "        [0.81550458],\n",
              "        [0.85222197]],\n",
              "\n",
              "       [[0.81550458],\n",
              "        [0.85222197],\n",
              "        [0.85403891]],\n",
              "\n",
              "       [[0.85222197],\n",
              "        [0.85403891],\n",
              "        [0.83314407]],\n",
              "\n",
              "       [[0.85403891],\n",
              "        [0.83314407],\n",
              "        [0.66303278]],\n",
              "\n",
              "       [[0.83314407],\n",
              "        [0.66303278],\n",
              "        [0.58429858]],\n",
              "\n",
              "       [[0.66303278],\n",
              "        [0.58429858],\n",
              "        [0.27178439]],\n",
              "\n",
              "       [[0.58429858],\n",
              "        [0.27178439],\n",
              "        [0.36361572]],\n",
              "\n",
              "       [[0.27178439],\n",
              "        [0.36361572],\n",
              "        [0.34022258]],\n",
              "\n",
              "       [[0.36361572],\n",
              "        [0.34022258],\n",
              "        [0.42758725]],\n",
              "\n",
              "       [[0.34022258],\n",
              "        [0.42758725],\n",
              "        [0.50140056]],\n",
              "\n",
              "       [[0.42758725],\n",
              "        [0.50140056],\n",
              "        [0.52615641]],\n",
              "\n",
              "       [[0.50140056],\n",
              "        [0.52615641],\n",
              "        [0.30153683]],\n",
              "\n",
              "       [[0.52615641],\n",
              "        [0.30153683],\n",
              "        [0.09478386]],\n",
              "\n",
              "       [[0.30153683],\n",
              "        [0.09478386],\n",
              "        [0.16329775]],\n",
              "\n",
              "       [[0.09478386],\n",
              "        [0.16329775],\n",
              "        [0.31153002]],\n",
              "\n",
              "       [[0.16329775],\n",
              "        [0.31153002],\n",
              "        [0.18434401]],\n",
              "\n",
              "       [[0.31153002],\n",
              "        [0.18434401],\n",
              "        [0.15474298]],\n",
              "\n",
              "       [[0.18434401],\n",
              "        [0.15474298],\n",
              "        [0.14512832]],\n",
              "\n",
              "       [[0.15474298],\n",
              "        [0.14512832],\n",
              "        [0.09773639]],\n",
              "\n",
              "       [[0.14512832],\n",
              "        [0.09773639],\n",
              "        [0.        ]]])"
            ]
          },
          "metadata": {
            "tags": []
          },
          "execution_count": 52
        }
      ]
    },
    {
      "cell_type": "code",
      "metadata": {
        "id": "EV3F9xlCNcfW"
      },
      "source": [
        "from tensorflow.keras.models import Sequential\n",
        "from tensorflow.keras.layers import Dense\n",
        "from tensorflow.keras.layers import LSTM\n",
        "from tensorflow.keras.layers import Dropout"
      ],
      "execution_count": 53,
      "outputs": []
    },
    {
      "cell_type": "code",
      "metadata": {
        "colab": {
          "base_uri": "https://localhost:8080/"
        },
        "id": "fTI_2icXN9zB",
        "outputId": "a8f78d62-3ff9-45eb-d973-7818a47d98ad"
      },
      "source": [
        "model = Sequential()\n",
        "model.add(LSTM(units = 50, return_sequences = True, input_shape = (X_train.shape[1], 1)))\n",
        "model.add(Dropout(0.2))\n",
        "model.add(LSTM(units = 50, return_sequences = True))\n",
        "model.add(Dropout(0.2))\n",
        "model.add(LSTM(units = 50, return_sequences = True))\n",
        "model.add(Dropout(0.2))\n",
        "model.add(LSTM(units = 50))\n",
        "model.add(Dropout(0.2))\n",
        "model.add(Dense(units = 1))\n",
        "model.summary()"
      ],
      "execution_count": 54,
      "outputs": [
        {
          "output_type": "stream",
          "text": [
            "Model: \"sequential_1\"\n",
            "_________________________________________________________________\n",
            "Layer (type)                 Output Shape              Param #   \n",
            "=================================================================\n",
            "lstm_4 (LSTM)                (None, 3, 50)             10400     \n",
            "_________________________________________________________________\n",
            "dropout_4 (Dropout)          (None, 3, 50)             0         \n",
            "_________________________________________________________________\n",
            "lstm_5 (LSTM)                (None, 3, 50)             20200     \n",
            "_________________________________________________________________\n",
            "dropout_5 (Dropout)          (None, 3, 50)             0         \n",
            "_________________________________________________________________\n",
            "lstm_6 (LSTM)                (None, 3, 50)             20200     \n",
            "_________________________________________________________________\n",
            "dropout_6 (Dropout)          (None, 3, 50)             0         \n",
            "_________________________________________________________________\n",
            "lstm_7 (LSTM)                (None, 50)                20200     \n",
            "_________________________________________________________________\n",
            "dropout_7 (Dropout)          (None, 50)                0         \n",
            "_________________________________________________________________\n",
            "dense_1 (Dense)              (None, 1)                 51        \n",
            "=================================================================\n",
            "Total params: 71,051\n",
            "Trainable params: 71,051\n",
            "Non-trainable params: 0\n",
            "_________________________________________________________________\n"
          ],
          "name": "stdout"
        }
      ]
    },
    {
      "cell_type": "code",
      "metadata": {
        "id": "pfSW00TNOoMc"
      },
      "source": [
        "model.compile(optimizer = 'adam', loss = 'mean_squared_error')"
      ],
      "execution_count": 55,
      "outputs": []
    },
    {
      "cell_type": "code",
      "metadata": {
        "colab": {
          "base_uri": "https://localhost:8080/"
        },
        "id": "OgaS6BdROsVd",
        "outputId": "72f769f1-bf56-4278-da84-31febcd0112e"
      },
      "source": [
        "model.fit(X_train, y_train, epochs = 100, batch_size = 32)"
      ],
      "execution_count": 56,
      "outputs": [
        {
          "output_type": "stream",
          "text": [
            "Epoch 1/100\n",
            "1/1 [==============================] - 7s 7s/step - loss: 0.3182\n",
            "Epoch 2/100\n",
            "1/1 [==============================] - 0s 21ms/step - loss: 0.3109\n",
            "Epoch 3/100\n",
            "1/1 [==============================] - 0s 19ms/step - loss: 0.3036\n",
            "Epoch 4/100\n",
            "1/1 [==============================] - 0s 22ms/step - loss: 0.2964\n",
            "Epoch 5/100\n",
            "1/1 [==============================] - 0s 25ms/step - loss: 0.2891\n",
            "Epoch 6/100\n",
            "1/1 [==============================] - 0s 23ms/step - loss: 0.2796\n",
            "Epoch 7/100\n",
            "1/1 [==============================] - 0s 21ms/step - loss: 0.2722\n",
            "Epoch 8/100\n",
            "1/1 [==============================] - 0s 21ms/step - loss: 0.2626\n",
            "Epoch 9/100\n",
            "1/1 [==============================] - 0s 25ms/step - loss: 0.2516\n",
            "Epoch 10/100\n",
            "1/1 [==============================] - 0s 25ms/step - loss: 0.2423\n",
            "Epoch 11/100\n",
            "1/1 [==============================] - 0s 27ms/step - loss: 0.2355\n",
            "Epoch 12/100\n",
            "1/1 [==============================] - 0s 26ms/step - loss: 0.2179\n",
            "Epoch 13/100\n",
            "1/1 [==============================] - 0s 30ms/step - loss: 0.2069\n",
            "Epoch 14/100\n",
            "1/1 [==============================] - 0s 27ms/step - loss: 0.1924\n",
            "Epoch 15/100\n",
            "1/1 [==============================] - 0s 31ms/step - loss: 0.1814\n",
            "Epoch 16/100\n",
            "1/1 [==============================] - 0s 25ms/step - loss: 0.1643\n",
            "Epoch 17/100\n",
            "1/1 [==============================] - 0s 32ms/step - loss: 0.1559\n",
            "Epoch 18/100\n",
            "1/1 [==============================] - 0s 34ms/step - loss: 0.1413\n",
            "Epoch 19/100\n",
            "1/1 [==============================] - 0s 26ms/step - loss: 0.1276\n",
            "Epoch 20/100\n",
            "1/1 [==============================] - 0s 26ms/step - loss: 0.1081\n",
            "Epoch 21/100\n",
            "1/1 [==============================] - 0s 29ms/step - loss: 0.0957\n",
            "Epoch 22/100\n",
            "1/1 [==============================] - 0s 21ms/step - loss: 0.0827\n",
            "Epoch 23/100\n",
            "1/1 [==============================] - 0s 21ms/step - loss: 0.0689\n",
            "Epoch 24/100\n",
            "1/1 [==============================] - 0s 28ms/step - loss: 0.0768\n",
            "Epoch 25/100\n",
            "1/1 [==============================] - 0s 23ms/step - loss: 0.0750\n",
            "Epoch 26/100\n",
            "1/1 [==============================] - 0s 23ms/step - loss: 0.0878\n",
            "Epoch 27/100\n",
            "1/1 [==============================] - 0s 23ms/step - loss: 0.1000\n",
            "Epoch 28/100\n",
            "1/1 [==============================] - 0s 26ms/step - loss: 0.0955\n",
            "Epoch 29/100\n",
            "1/1 [==============================] - 0s 24ms/step - loss: 0.0895\n",
            "Epoch 30/100\n",
            "1/1 [==============================] - 0s 38ms/step - loss: 0.0820\n",
            "Epoch 31/100\n",
            "1/1 [==============================] - 0s 31ms/step - loss: 0.0915\n",
            "Epoch 32/100\n",
            "1/1 [==============================] - 0s 27ms/step - loss: 0.0803\n",
            "Epoch 33/100\n",
            "1/1 [==============================] - 0s 41ms/step - loss: 0.0720\n",
            "Epoch 34/100\n",
            "1/1 [==============================] - 0s 41ms/step - loss: 0.0668\n",
            "Epoch 35/100\n",
            "1/1 [==============================] - 0s 32ms/step - loss: 0.0689\n",
            "Epoch 36/100\n",
            "1/1 [==============================] - 0s 36ms/step - loss: 0.0746\n",
            "Epoch 37/100\n",
            "1/1 [==============================] - 0s 30ms/step - loss: 0.0714\n",
            "Epoch 38/100\n",
            "1/1 [==============================] - 0s 33ms/step - loss: 0.0680\n",
            "Epoch 39/100\n",
            "1/1 [==============================] - 0s 29ms/step - loss: 0.0760\n",
            "Epoch 40/100\n",
            "1/1 [==============================] - 0s 21ms/step - loss: 0.0763\n",
            "Epoch 41/100\n",
            "1/1 [==============================] - 0s 25ms/step - loss: 0.0774\n",
            "Epoch 42/100\n",
            "1/1 [==============================] - 0s 28ms/step - loss: 0.0793\n",
            "Epoch 43/100\n",
            "1/1 [==============================] - 0s 26ms/step - loss: 0.0660\n",
            "Epoch 44/100\n",
            "1/1 [==============================] - 0s 28ms/step - loss: 0.0714\n",
            "Epoch 45/100\n",
            "1/1 [==============================] - 0s 34ms/step - loss: 0.0637\n",
            "Epoch 46/100\n",
            "1/1 [==============================] - 0s 25ms/step - loss: 0.0603\n",
            "Epoch 47/100\n",
            "1/1 [==============================] - 0s 24ms/step - loss: 0.0602\n",
            "Epoch 48/100\n",
            "1/1 [==============================] - 0s 25ms/step - loss: 0.0512\n",
            "Epoch 49/100\n",
            "1/1 [==============================] - 0s 37ms/step - loss: 0.0536\n",
            "Epoch 50/100\n",
            "1/1 [==============================] - 0s 31ms/step - loss: 0.0564\n",
            "Epoch 51/100\n",
            "1/1 [==============================] - 0s 30ms/step - loss: 0.0589\n",
            "Epoch 52/100\n",
            "1/1 [==============================] - 0s 34ms/step - loss: 0.0519\n",
            "Epoch 53/100\n",
            "1/1 [==============================] - 0s 37ms/step - loss: 0.0638\n",
            "Epoch 54/100\n",
            "1/1 [==============================] - 0s 31ms/step - loss: 0.0578\n",
            "Epoch 55/100\n",
            "1/1 [==============================] - 0s 36ms/step - loss: 0.0553\n",
            "Epoch 56/100\n",
            "1/1 [==============================] - 0s 24ms/step - loss: 0.0512\n",
            "Epoch 57/100\n",
            "1/1 [==============================] - 0s 32ms/step - loss: 0.0413\n",
            "Epoch 58/100\n",
            "1/1 [==============================] - 0s 31ms/step - loss: 0.0426\n",
            "Epoch 59/100\n",
            "1/1 [==============================] - 0s 25ms/step - loss: 0.0556\n",
            "Epoch 60/100\n",
            "1/1 [==============================] - 0s 22ms/step - loss: 0.0499\n",
            "Epoch 61/100\n",
            "1/1 [==============================] - 0s 26ms/step - loss: 0.0416\n",
            "Epoch 62/100\n",
            "1/1 [==============================] - 0s 33ms/step - loss: 0.0464\n",
            "Epoch 63/100\n",
            "1/1 [==============================] - 0s 31ms/step - loss: 0.0419\n",
            "Epoch 64/100\n",
            "1/1 [==============================] - 0s 33ms/step - loss: 0.0373\n",
            "Epoch 65/100\n",
            "1/1 [==============================] - 0s 22ms/step - loss: 0.0477\n",
            "Epoch 66/100\n",
            "1/1 [==============================] - 0s 34ms/step - loss: 0.0393\n",
            "Epoch 67/100\n",
            "1/1 [==============================] - 0s 23ms/step - loss: 0.0410\n",
            "Epoch 68/100\n",
            "1/1 [==============================] - 0s 28ms/step - loss: 0.0403\n",
            "Epoch 69/100\n",
            "1/1 [==============================] - 0s 21ms/step - loss: 0.0433\n",
            "Epoch 70/100\n",
            "1/1 [==============================] - 0s 33ms/step - loss: 0.0420\n",
            "Epoch 71/100\n",
            "1/1 [==============================] - 0s 32ms/step - loss: 0.0265\n",
            "Epoch 72/100\n",
            "1/1 [==============================] - 0s 31ms/step - loss: 0.0347\n",
            "Epoch 73/100\n",
            "1/1 [==============================] - 0s 21ms/step - loss: 0.0377\n",
            "Epoch 74/100\n",
            "1/1 [==============================] - 0s 28ms/step - loss: 0.0405\n",
            "Epoch 75/100\n",
            "1/1 [==============================] - 0s 34ms/step - loss: 0.0398\n",
            "Epoch 76/100\n",
            "1/1 [==============================] - 0s 31ms/step - loss: 0.0453\n",
            "Epoch 77/100\n",
            "1/1 [==============================] - 0s 24ms/step - loss: 0.0291\n",
            "Epoch 78/100\n",
            "1/1 [==============================] - 0s 35ms/step - loss: 0.0342\n",
            "Epoch 79/100\n",
            "1/1 [==============================] - 0s 25ms/step - loss: 0.0380\n",
            "Epoch 80/100\n",
            "1/1 [==============================] - 0s 35ms/step - loss: 0.0331\n",
            "Epoch 81/100\n",
            "1/1 [==============================] - 0s 33ms/step - loss: 0.0426\n",
            "Epoch 82/100\n",
            "1/1 [==============================] - 0s 30ms/step - loss: 0.0348\n",
            "Epoch 83/100\n",
            "1/1 [==============================] - 0s 29ms/step - loss: 0.0403\n",
            "Epoch 84/100\n",
            "1/1 [==============================] - 0s 32ms/step - loss: 0.0335\n",
            "Epoch 85/100\n",
            "1/1 [==============================] - 0s 23ms/step - loss: 0.0397\n",
            "Epoch 86/100\n",
            "1/1 [==============================] - 0s 32ms/step - loss: 0.0339\n",
            "Epoch 87/100\n",
            "1/1 [==============================] - 0s 31ms/step - loss: 0.0310\n",
            "Epoch 88/100\n",
            "1/1 [==============================] - 0s 25ms/step - loss: 0.0395\n",
            "Epoch 89/100\n",
            "1/1 [==============================] - 0s 37ms/step - loss: 0.0280\n",
            "Epoch 90/100\n",
            "1/1 [==============================] - 0s 48ms/step - loss: 0.0314\n",
            "Epoch 91/100\n",
            "1/1 [==============================] - 0s 29ms/step - loss: 0.0457\n",
            "Epoch 92/100\n",
            "1/1 [==============================] - 0s 39ms/step - loss: 0.0286\n",
            "Epoch 93/100\n",
            "1/1 [==============================] - 0s 31ms/step - loss: 0.0452\n",
            "Epoch 94/100\n",
            "1/1 [==============================] - 0s 29ms/step - loss: 0.0316\n",
            "Epoch 95/100\n",
            "1/1 [==============================] - 0s 27ms/step - loss: 0.0332\n",
            "Epoch 96/100\n",
            "1/1 [==============================] - 0s 51ms/step - loss: 0.0324\n",
            "Epoch 97/100\n",
            "1/1 [==============================] - 0s 26ms/step - loss: 0.0491\n",
            "Epoch 98/100\n",
            "1/1 [==============================] - 0s 31ms/step - loss: 0.0363\n",
            "Epoch 99/100\n",
            "1/1 [==============================] - 0s 25ms/step - loss: 0.0325\n",
            "Epoch 100/100\n",
            "1/1 [==============================] - 0s 31ms/step - loss: 0.0324\n"
          ],
          "name": "stdout"
        },
        {
          "output_type": "execute_result",
          "data": {
            "text/plain": [
              "<tensorflow.python.keras.callbacks.History at 0x7f191ec1a310>"
            ]
          },
          "metadata": {
            "tags": []
          },
          "execution_count": 56
        }
      ]
    },
    {
      "cell_type": "code",
      "metadata": {
        "id": "DStaZneBQS-L"
      },
      "source": [
        "tes3 = {'Tanggal': ['2021-08-04','2021-08-05','2021-08-06','2021-08-07','2021-08-08','2021-08-09'],\n",
        "        'Positif Harian' : [0,0,0,0,0,0]}\n",
        "tes3 = pd.DataFrame(tes3)\n",
        "kasus = tes3.iloc[:, 1:2].values"
      ],
      "execution_count": 57,
      "outputs": []
    },
    {
      "cell_type": "code",
      "metadata": {
        "id": "Ezn0vvkeOzbV"
      },
      "source": [
        "dataset_test = tes3\n",
        "# Memprediksi laju kasus Positif harian selama perpanjangan PPKM\n",
        "dataset_total = pd.concat((tes2['Positif Harian'], dataset_test['Positif Harian']), axis = 0)\n",
        "inputs = dataset_total[len(dataset_total) - len(dataset_test) - 7:].values\n",
        "inputs = inputs.reshape(-1,1)\n",
        "inputs = sc.transform(inputs)\n",
        "X_test = []"
      ],
      "execution_count": 58,
      "outputs": []
    },
    {
      "cell_type": "code",
      "metadata": {
        "id": "rwgnaOYkSFYv"
      },
      "source": [
        "for i in range(3, kasus.shape[0] + X_train.shape[1]):\n",
        "    X_test.append(inputs[i-3:i, 0])\n",
        "X_test = np.array(X_test)\n",
        "X_test = np.reshape(X_test, (X_test.shape[0], X_test.shape[1], 1))\n",
        "predicted = model.predict(X_test)\n",
        "predicted = sc.inverse_transform(predicted)"
      ],
      "execution_count": 59,
      "outputs": []
    },
    {
      "cell_type": "markdown",
      "metadata": {
        "id": "ANy3EuGuW-Hu"
      },
      "source": [
        "### Visualisasi perbandingan hasil prediksi New Section"
      ]
    },
    {
      "cell_type": "code",
      "metadata": {
        "colab": {
          "base_uri": "https://localhost:8080/",
          "height": 235
        },
        "id": "wqX_DmFOTZHU",
        "outputId": "493cc6f4-5330-4d3f-e9b8-73e5ca608843"
      },
      "source": [
        "predicted=np.around(predicted)\n",
        "pred= pd.DataFrame(predicted, columns=['Prediksi Kasus'])\n",
        "pred['Tanggal']=['2021-08-04','2021-08-05','2021-08-06','2021-08-07','2021-08-08','2021-08-09']\n",
        "pred"
      ],
      "execution_count": 62,
      "outputs": [
        {
          "output_type": "execute_result",
          "data": {
            "text/html": [
              "<div>\n",
              "<style scoped>\n",
              "    .dataframe tbody tr th:only-of-type {\n",
              "        vertical-align: middle;\n",
              "    }\n",
              "\n",
              "    .dataframe tbody tr th {\n",
              "        vertical-align: top;\n",
              "    }\n",
              "\n",
              "    .dataframe thead th {\n",
              "        text-align: right;\n",
              "    }\n",
              "</style>\n",
              "<table border=\"1\" class=\"dataframe\">\n",
              "  <thead>\n",
              "    <tr style=\"text-align: right;\">\n",
              "      <th></th>\n",
              "      <th>Prediksi Kasus</th>\n",
              "      <th>Tanggal</th>\n",
              "    </tr>\n",
              "  </thead>\n",
              "  <tbody>\n",
              "    <tr>\n",
              "      <th>0</th>\n",
              "      <td>4144.0</td>\n",
              "      <td>2021-08-04</td>\n",
              "    </tr>\n",
              "    <tr>\n",
              "      <th>1</th>\n",
              "      <td>3530.0</td>\n",
              "      <td>2021-08-05</td>\n",
              "    </tr>\n",
              "    <tr>\n",
              "      <th>2</th>\n",
              "      <td>3373.0</td>\n",
              "      <td>2021-08-06</td>\n",
              "    </tr>\n",
              "    <tr>\n",
              "      <th>3</th>\n",
              "      <td>3214.0</td>\n",
              "      <td>2021-08-07</td>\n",
              "    </tr>\n",
              "    <tr>\n",
              "      <th>4</th>\n",
              "      <td>2900.0</td>\n",
              "      <td>2021-08-08</td>\n",
              "    </tr>\n",
              "    <tr>\n",
              "      <th>5</th>\n",
              "      <td>2558.0</td>\n",
              "      <td>2021-08-09</td>\n",
              "    </tr>\n",
              "  </tbody>\n",
              "</table>\n",
              "</div>"
            ],
            "text/plain": [
              "   Prediksi Kasus     Tanggal\n",
              "0          4144.0  2021-08-04\n",
              "1          3530.0  2021-08-05\n",
              "2          3373.0  2021-08-06\n",
              "3          3214.0  2021-08-07\n",
              "4          2900.0  2021-08-08\n",
              "5          2558.0  2021-08-09"
            ]
          },
          "metadata": {
            "tags": []
          },
          "execution_count": 62
        }
      ]
    },
    {
      "cell_type": "code",
      "metadata": {
        "colab": {
          "base_uri": "https://localhost:8080/",
          "height": 295
        },
        "id": "w8MLMiq0SbTD",
        "outputId": "0cf2118a-8b4f-4184-9ecc-c4031600abcb"
      },
      "source": [
        "plt.plot(tes3['Tanggal'],predicted, color = 'blue', label = 'Prediksi Kasus Positif Harian')\n",
        "plt.title('Prediksi kasus positif harian Selama Perpanjangan PPKM')\n",
        "plt.xlabel('Tanggal')\n",
        "plt.ylabel('Jumlah kasus harian')\n",
        "plt.legend()\n",
        "plt.savefig('plot3.png')\n",
        "plt.show()"
      ],
      "execution_count": 63,
      "outputs": [
        {
          "output_type": "display_data",
          "data": {
            "image/png": "[encoded data removed]",
            "text/plain": [
              "<Figure size 432x288 with 1 Axes>"
            ]
          },
          "metadata": {
            "tags": [],
            "needs_background": "light"
          }
        }
      ]
    },
    {
      "cell_type": "code",
      "metadata": {
        "id": "GcgvK0mAVUvf"
      },
      "source": [
        ""
      ],
      "execution_count": 61,
      "outputs": []
    }
  ]
}